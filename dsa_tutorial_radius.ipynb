{
 "cells": [
  {
   "cell_type": "markdown",
   "metadata": {},
   "source": [
    "# DSA-Radius Basic Usage Tutorial \n",
    "Updated 6/17/2021"
   ]
  },
  {
   "cell_type": "markdown",
   "metadata": {},
   "source": [
    "## Contents\n",
    "- [Quick Start](#quick_start)\n",
    "- [Simulation Output & Metadata](#dsa_df)\n",
    "- [Target Metadata](#meta)\n",
    "  - [Using Coordinates](#coords)\n",
    "  - [Setting Initial Conditions](#initial_conditions)\n",
    "  - [Using Different Moves](#moves)\n",
    "  - [Adding/Removing Photometry](#photometry)\n",
    "    - [Adding Photometry](#adding)\n",
    "    - [Local Photometry](#local)\n",
    "    - [Removing Photometry](#removing)\n",
    "  - [Target Metadata Summary](#meta_summary)\n",
    "- [Changing the Isochrone Model](#isochrone)\n",
    "- [Changing the Interpolation Method](#interp_method)\n",
    "- [Making Basic Plots](#plot)\n",
    "- [Miscellaneous](#misc)\n",
    "  - [Measured Photometry Kwargs](#meas_phot_kwargs)\n",
    "  - [Set Extinction to Zero](#zero_extinction)"
   ]
  },
  {
   "cell_type": "markdown",
   "metadata": {},
   "source": [
    "## Quick Start <a id='quick_start'></a>"
   ]
  },
  {
   "cell_type": "markdown",
   "metadata": {},
   "source": [
    "The radius module of `dsa` is used to estimate stellar radii and other parameters. We'll run through a quick example to demonstrate basic capabilities before taking a look at some of the more advanced features below.\n",
    "\n",
    "First, we'll import `Estimate` from `dsa.radius` and initialize it for our target. In this example, we'll use K2-33."
   ]
  },
  {
   "cell_type": "code",
   "execution_count": 1,
   "metadata": {},
   "outputs": [],
   "source": [
    "from dsa.radius import Estimate\n",
    "\n",
    "target = 'K2-33'\n",
    "est = Estimate(target)"
   ]
  },
  {
   "cell_type": "markdown",
   "metadata": {},
   "source": [
    "Now, we'll run a quick MCMC simulation using 16 walkers for 250 steps. `dsa.radius` uses the `emcee` package to run the simulations, and as such, returns an `emcee.EnsemberSampler` object, which we'll name `sampler`.\n",
    "\n",
    "A typical simulation should use more steps and more walkers depending on the problem being solved. The few steps we're using here let us run a reasonably quick simulation to get the point across. \n",
    "\n",
    "**Note: the first few steps will be much slower than the rest of the simulation so don't be alarmed.**"
   ]
  },
  {
   "cell_type": "code",
   "execution_count": 2,
   "metadata": {},
   "outputs": [
    {
     "name": "stdout",
     "output_type": "stream",
     "text": [
      "\n",
      "running MCMC for K2-33:\n"
     ]
    },
    {
     "name": "stderr",
     "output_type": "stream",
     "text": [
      "100%|██████████| 250/250 [01:44<00:00,  2.38it/s]\n"
     ]
    }
   ],
   "source": [
    "nwalkers = 16\n",
    "nsteps = 250\n",
    "\n",
    "sampler = est.run(nwalkers, nsteps)"
   ]
  },
  {
   "cell_type": "markdown",
   "metadata": {},
   "source": [
    "Now that we've run the simulation, we're able to use `sampler` in every way a typical `EnsembleSampler` object can be used. See the [`emcee` documentation](https://emcee.readthedocs.io/en/stable/) for more information. \n",
    "\n",
    "For this example, we're going to use one of the built-in functions of the `Estimate` class to extract the posterior distributions for our parameters. Briefly, `posterior` contains the quotable values and uncertainties of the estimated stellar parameters, `photometry` contains the measured and estimated photometry (e.g., magnitudes and fluxes), and `chains` contains the full posterior distributions of the stellar parameters. See the [following section](#dsa_df) for a more in depth look at the simulation output."
   ]
  },
  {
   "cell_type": "code",
   "execution_count": 3,
   "metadata": {},
   "outputs": [
    {
     "name": "stdout",
     "output_type": "stream",
     "text": [
      "\n",
      "extracting posterior for K2-33:\n",
      "\n",
      "calculating max log probability:\n"
     ]
    },
    {
     "name": "stderr",
     "output_type": "stream",
     "text": [
      "100%|██████████| 4000/4000 [01:04<00:00, 62.24it/s]\n"
     ]
    },
    {
     "name": "stdout",
     "output_type": "stream",
     "text": [
      "\n",
      "getting radius and Teff chains:\n"
     ]
    },
    {
     "name": "stderr",
     "output_type": "stream",
     "text": [
      "100%|██████████| 4000/4000 [00:47<00:00, 83.92it/s]\n"
     ]
    }
   ],
   "source": [
    "posterior, photometry, chains = est.posterior(sampler)"
   ]
  },
  {
   "cell_type": "markdown",
   "metadata": {},
   "source": [
    "## Simulation Output & Metadata <a id='dsa_df'></a>"
   ]
  },
  {
   "cell_type": "markdown",
   "metadata": {},
   "source": [
    "Each output object is a `DSADataFrame` which is a subclass of `pandas.DataFrame` that has been constructed just for DSA-related output. I think `DataFrame` objects work really well in the background during the simulation, but I find them lacking to describe the data contained within them, especially to someone unfamiliar with the simulation output.\n",
    "\n",
    "A `DSADataFrame` works exactly the same as a normal `DataFrame` except that it can handle more metadata than its generic counterpart. All three of the output objects contain the same general information about the simulation which can be accessed via `<object>.metadata`. However, the special thing about these `DSADataFrame` objects is that they can be directly translated to `astropy.table.Table` objects which can display units and data types, or contain descriptions and other information that a `DataFrame` cannot. `astropy` already has built-in functions to convert a `DataFrame` to a `Table`, but `DSADataFrame` adds all of the relevant metadata for that particular object."
   ]
  },
  {
   "cell_type": "markdown",
   "metadata": {},
   "source": [
    "Let's look at `posterior` first. It contains median (50th percentile) and maximum-probability estimated fit values and uncertainties for the stellar parameters. To convert it to a `Table` (and to access its attributes after that), we need to store it in another variable (here arbitrarily called `apost`)."
   ]
  },
  {
   "cell_type": "code",
   "execution_count": 4,
   "metadata": {},
   "outputs": [
    {
     "data": {
      "text/html": [
       "<i>Table length=5</i>\n",
       "<table id=\"table140218629823072\" class=\"table-striped table-bordered table-condensed\">\n",
       "<thead><tr><th>quoted_value</th><th>age</th><th>mass</th><th>Av</th><th>f</th><th>radius</th><th>Teff</th><th>density</th></tr></thead>\n",
       "<thead><tr><th></th><th>Myr</th><th>solMass</th><th>mag</th><th>mag</th><th>solRad</th><th>K</th><th>solMass / solRad3</th></tr></thead>\n",
       "<thead><tr><th>str15</th><th>float64</th><th>float64</th><th>float64</th><th>float64</th><th>float64</th><th>float64</th><th>float64</th></tr></thead>\n",
       "<tr><td>median</td><td>600.92</td><td>0.711249</td><td>1.28085</td><td>0.45733</td><td>0.77083</td><td>3982.39</td><td>1.599</td></tr>\n",
       "<tr><td>max_probability</td><td>22.932</td><td>0.782344</td><td>1.51351</td><td>0.16492</td><td>0.988339</td><td>3674.93</td><td>0.810364</td></tr>\n",
       "<tr><td>uncertainty</td><td>794.296</td><td>0.077175</td><td>1.02691</td><td>0.25837</td><td>0.133559</td><td>344.92</td><td>0.670843</td></tr>\n",
       "<tr><td>+</td><td>1029.94</td><td>0.0634808</td><td>1.16590</td><td>0.32132</td><td>0.135839</td><td>446.529</td><td>0.81986</td></tr>\n",
       "<tr><td>-</td><td>558.647</td><td>0.0908691</td><td>0.88792</td><td>0.19542</td><td>0.131278</td><td>243.31</td><td>0.521826</td></tr>\n",
       "</table>"
      ],
      "text/plain": [
       "<Table length=5>\n",
       "  quoted_value    age      mass      Av   ...  radius    Teff       density     \n",
       "                  Myr    solMass    mag   ...  solRad     K    solMass / solRad3\n",
       "     str15      float64  float64  float64 ... float64  float64      float64     \n",
       "--------------- ------- --------- ------- ... -------- ------- -----------------\n",
       "         median  600.92  0.711249 1.28085 ...  0.77083 3982.39             1.599\n",
       "max_probability  22.932  0.782344 1.51351 ... 0.988339 3674.93          0.810364\n",
       "    uncertainty 794.296  0.077175 1.02691 ... 0.133559  344.92          0.670843\n",
       "              + 1029.94 0.0634808 1.16590 ... 0.135839 446.529           0.81986\n",
       "              - 558.647 0.0908691 0.88792 ... 0.131278  243.31          0.521826"
      ]
     },
     "execution_count": 4,
     "metadata": {},
     "output_type": "execute_result"
    }
   ],
   "source": [
    "apost = posterior.to_astropy()\n",
    "apost"
   ]
  },
  {
   "cell_type": "markdown",
   "metadata": {},
   "source": [
    "This is actually a transposed representation from its original `DSADataFrame`. This is just to make it easier to show the units of each stellar parameter. We can look at any column for more information, so we'll take this as an opportunity to learn what the fit parameters are."
   ]
  },
  {
   "cell_type": "code",
   "execution_count": 5,
   "metadata": {},
   "outputs": [
    {
     "name": "stdout",
     "output_type": "stream",
     "text": [
      "age: estimated stellar age\n",
      "mass: estimated stellar mass\n",
      "Av: estimated V-band extinction\n",
      "f: underestimation of measured magnitude uncertainties\n"
     ]
    }
   ],
   "source": [
    "print('age:', apost['age'].description)\n",
    "print('mass:', apost['mass'].description)\n",
    "print('Av:', apost['Av'].description)\n",
    "print('f:', apost['f'].description)"
   ]
  },
  {
   "cell_type": "markdown",
   "metadata": {},
   "source": [
    "Also, a description of what each index means can be found via `apost['quoted_value'].description`."
   ]
  },
  {
   "cell_type": "code",
   "execution_count": 6,
   "metadata": {},
   "outputs": [
    {
     "data": {
      "text/plain": [
       "'median: 50th percentile; max_probability: maximum value calculated from the log-probability function; uncertainty: average of upper and lower confidence intervals;                    +: upper confidence interval calculated as difference between 84th and 50th percentiles; -: lower confidence interval calculated as difference between 50th and 16th percentiles'"
      ]
     },
     "execution_count": 6,
     "metadata": {},
     "output_type": "execute_result"
    }
   ],
   "source": [
    "apost['quoted_value'].description"
   ]
  },
  {
   "cell_type": "markdown",
   "metadata": {},
   "source": [
    "You can access the same metadata that would be in `posterior.metadata` via `apost.meta` as well. Many of these parameters will be discussed in later sections."
   ]
  },
  {
   "cell_type": "code",
   "execution_count": 7,
   "metadata": {},
   "outputs": [
    {
     "data": {
      "text/plain": [
       "{'target': 'K2-33',\n",
       " 'coordinates': None,\n",
       " 'isochrone': 'mag',\n",
       " 'interp_method': 'true',\n",
       " 'use_synphot': False,\n",
       " 'nwalkers': 16,\n",
       " 'nsteps': 250,\n",
       " 'discard': 0,\n",
       " 'thin': 1,\n",
       " 'mean_acceptance_frac': 0.406,\n",
       " 'median_autocorr_time': 26.573,\n",
       " 'date': '20210604',\n",
       " 'sim_runtime': '00:02:02',\n",
       " 'posterior_extract_time': '00:01:56'}"
      ]
     },
     "execution_count": 7,
     "metadata": {},
     "output_type": "execute_result"
    }
   ],
   "source": [
    "apost.meta"
   ]
  },
  {
   "cell_type": "markdown",
   "metadata": {},
   "source": [
    "Although `DSADataFrame` objects were created to make metadata visualization easier, `apost` is now a `Table` object, so you could exclusively work with it this way if that's what you prefer. However, there are some functions that take the simulation output as arguments (e.g., plotting) that may not work properly if given a `Table` object instead of a `DataFrame` or `DSADataFrame`. "
   ]
  },
  {
   "cell_type": "markdown",
   "metadata": {},
   "source": [
    "Next is `photometry` which contains all of the observed and estimated information relating to the photometry in each passband. We'll view this as a `Table` object, and it serves as a goodness-of-fit metric for the simulation. There is a lot of information contained here, but the most important are the measured magnitudes/fluxes and the model magnitudes/fluxes. Most measured values are taken from [Vizier](https://vizier.u-strasbg.fr/viz-bin/VizieR)."
   ]
  },
  {
   "cell_type": "code",
   "execution_count": 8,
   "metadata": {},
   "outputs": [
    {
     "data": {
      "text/html": [
       "<i>Table length=12</i>\n",
       "<table id=\"table140218625277376\" class=\"table-striped table-bordered table-condensed\">\n",
       "<thead><tr><th>band</th><th>apparent_magnitude</th><th>apparent_magnitude_error</th><th>ABSOLUTE_MAGNITUDE</th><th>ABSOLUTE_MAGNITUDE_ERROR</th><th>flux</th><th>flux_error</th><th>parallax</th><th>parallax_error</th><th>zeropoint_flux</th><th>wavelength</th><th>system</th><th>isochrone_analog</th><th>MEDIAN_ABSOLUTE_MAGNITUDE</th><th>MEDIAN_ABSOLUTE_MAGNITUDE_ERROR</th><th>median_apparent_magnitude</th><th>median_apparent_magnitude_error</th><th>median_flux</th><th>median_flux_error</th><th>median_percent_error</th><th>MAX_PROBABILITY_ABSOLUTE_MAGNITUDE</th><th>MAX_PROBABILITY_ABSOLUTE_MAGNITUDE_ERROR</th><th>max_probability_apparent_magnitude</th><th>max_probability_apparent_magnitude_error</th><th>max_probability_flux</th><th>max_probability_flux_error</th><th>max_probability_percent_error</th></tr></thead>\n",
       "<thead><tr><th></th><th>mag</th><th>mag</th><th>mag</th><th>mag</th><th>erg / (Angstrom cm2 s)</th><th>erg / (Angstrom cm2 s)</th><th>arcsec</th><th>arcsec</th><th>erg / (Angstrom cm2 s)</th><th>Angstrom</th><th></th><th></th><th>mag</th><th>mag</th><th>mag</th><th>mag</th><th>erg / (Angstrom cm2 s)</th><th>erg / (Angstrom cm2 s)</th><th>%</th><th>mag</th><th>mag</th><th>mag</th><th>mag</th><th>erg / (Angstrom cm2 s)</th><th>erg / (Angstrom cm2 s)</th><th>%</th></tr></thead>\n",
       "<thead><tr><th>str12</th><th>float64</th><th>float64</th><th>float64</th><th>float64</th><th>float64</th><th>float64</th><th>float64</th><th>float64</th><th>float64</th><th>float64</th><th>str4</th><th>str12</th><th>float64</th><th>float64</th><th>float64</th><th>float64</th><th>float64</th><th>float64</th><th>float64</th><th>float64</th><th>float64</th><th>float64</th><th>float64</th><th>float64</th><th>float64</th><th>float64</th></tr></thead>\n",
       "<tr><td>2mass_jmag</td><td>11.09500</td><td>0.02300</td><td>5.37952</td><td>0.02406</td><td>1.14642e-14</td><td>2.42855e-16</td><td>7.19290e-03</td><td>2.34000e-05</td><td>3.14300e-10</td><td>12350</td><td>VEGA</td><td>2mass_jmag</td><td>5.64949</td><td>0.45796</td><td>11.36497</td><td>0.45802</td><td>8.94040e-15</td><td>3.77150e-15</td><td>22.01</td><td>5.42813</td><td>0.16666</td><td>11.14361</td><td>0.16681</td><td>1.09622e-14</td><td>1.68422e-15</td><td>4.38</td></tr>\n",
       "<tr><td>2mass_hmag</td><td>10.33200</td><td>0.02200</td><td>4.61652</td><td>0.02311</td><td>8.42609e-15</td><td>1.70736e-16</td><td>7.19290e-03</td><td>2.34000e-05</td><td>1.14400e-10</td><td>16620</td><td>VEGA</td><td>2mass_hmag</td><td>4.81384</td><td>0.45791</td><td>10.52932</td><td>0.45797</td><td>7.02584e-15</td><td>2.96353e-15</td><td>16.62</td><td>4.57580</td><td>0.16653</td><td>10.29128</td><td>0.16668</td><td>8.74813e-15</td><td>1.34296e-15</td><td>3.82</td></tr>\n",
       "<tr><td>2mass_kmag</td><td>10.02600</td><td>0.01900</td><td>4.31052</td><td>0.02027</td><td>4.20411e-15</td><td>7.35704e-17</td><td>7.19290e-03</td><td>2.34000e-05</td><td>4.30600e-11</td><td>21590</td><td>VEGA</td><td>2mass_kmag</td><td>4.56096</td><td>0.45778</td><td>10.27644</td><td>0.45783</td><td>3.33808e-15</td><td>1.40760e-15</td><td>20.60</td><td>4.25460</td><td>0.16616</td><td>9.97008</td><td>0.16631</td><td>4.42630e-15</td><td>6.77994e-16</td><td>5.29</td></tr>\n",
       "<tr><td>gaia_gmag</td><td>14.13351</td><td>0.00287</td><td>8.41803</td><td>0.00762</td><td>5.56168e-15</td><td>1.46964e-17</td><td>7.19290e-03</td><td>2.34000e-05</td><td>2.50386e-09</td><td>5822.4</td><td>VEGA</td><td>gaia_gmag</td><td>8.22366</td><td>0.45739</td><td>13.93913</td><td>0.45745</td><td>6.65206e-15</td><td>2.80268e-15</td><td>19.61</td><td>8.52108</td><td>0.16509</td><td>14.23656</td><td>0.16524</td><td>5.05810e-15</td><td>7.69812e-16</td><td>9.05</td></tr>\n",
       "<tr><td>gaia_bpmag</td><td>15.73287</td><td>0.00484</td><td>10.01739</td><td>0.00856</td><td>2.07662e-15</td><td>9.26290e-18</td><td>7.19290e-03</td><td>2.34000e-05</td><td>4.07852e-09</td><td>5035.8</td><td>VEGA</td><td>gaia_bpmag</td><td>9.30882</td><td>0.45741</td><td>15.02430</td><td>0.45746</td><td>3.98826e-15</td><td>1.68042e-15</td><td>92.06</td><td>9.99318</td><td>0.16514</td><td>15.70866</td><td>0.16529</td><td>2.12344e-15</td><td>3.23264e-16</td><td>2.25</td></tr>\n",
       "<tr><td>gaia_rpmag</td><td>12.91242</td><td>0.00406</td><td>7.19694</td><td>0.00815</td><td>8.67959e-15</td><td>3.24405e-17</td><td>7.19290e-03</td><td>2.34000e-05</td><td>1.26902e-09</td><td>7620</td><td>VEGA</td><td>gaia_rpmag</td><td>7.19503</td><td>0.45740</td><td>12.91051</td><td>0.45746</td><td>8.69487e-15</td><td>3.66344e-15</td><td>0.18</td><td>7.32439</td><td>0.16512</td><td>13.03987</td><td>0.16527</td><td>7.71830e-15</td><td>1.17485e-15</td><td>11.08</td></tr>\n",
       "<tr><td>sdss_gmag</td><td>16.45200</td><td>0.00400</td><td>10.73652</td><td>0.00812</td><td>1.30943e-15</td><td>4.82412e-18</td><td>7.19290e-03</td><td>2.34000e-05</td><td>4.98749e-09</td><td>4671.8</td><td>AB</td><td>sdss_gmag</td><td>9.98919</td><td>0.45740</td><td>15.70467</td><td>0.45746</td><td>2.60624e-15</td><td>1.09810e-15</td><td>99.04</td><td>10.73272</td><td>0.16511</td><td>16.44820</td><td>0.16527</td><td>1.31402e-15</td><td>2.00014e-16</td><td>0.35</td></tr>\n",
       "<tr><td>sdss_rmag</td><td>14.84500</td><td>0.00400</td><td>9.12952</td><td>0.00812</td><td>3.32929e-15</td><td>1.22656e-17</td><td>7.19290e-03</td><td>2.34000e-05</td><td>2.88637e-09</td><td>6141.1</td><td>AB</td><td>sdss_rmag</td><td>8.38264</td><td>0.45740</td><td>14.09812</td><td>0.45746</td><td>6.62375e-15</td><td>2.79080e-15</td><td>98.95</td><td>9.06230</td><td>0.16511</td><td>14.77778</td><td>0.16527</td><td>3.54193e-15</td><td>5.39137e-16</td><td>6.39</td></tr>\n",
       "<tr><td>sdss_imag</td><td>13.66800</td><td>0.00100</td><td>7.95252</td><td>0.00713</td><td>6.67444e-15</td><td>6.14739e-18</td><td>7.19290e-03</td><td>2.34000e-05</td><td>1.95711e-09</td><td>7457.9</td><td>AB</td><td>sdss_imag</td><td>7.63444</td><td>0.45739</td><td>13.34992</td><td>0.45744</td><td>8.94641e-15</td><td>3.76928e-15</td><td>34.04</td><td>7.82890</td><td>0.16507</td><td>13.54438</td><td>0.16522</td><td>7.47935e-15</td><td>1.13816e-15</td><td>12.06</td></tr>\n",
       "<tr><td>sdss_zmag</td><td>12.61300</td><td>0.00400</td><td>6.89752</td><td>0.00812</td><td>1.23211e-14</td><td>4.53925e-17</td><td>7.19290e-03</td><td>2.34000e-05</td><td>1.36725e-09</td><td>8922.8</td><td>AB</td><td>sdss_zmag</td><td>7.11835</td><td>0.45740</td><td>12.83383</td><td>0.45746</td><td>1.00535e-14</td><td>4.23587e-15</td><td>18.40</td><td>7.04885</td><td>0.16511</td><td>12.76433</td><td>0.16527</td><td>1.07181e-14</td><td>1.63145e-15</td><td>13.01</td></tr>\n",
       "<tr><td>johnson_bmag</td><td>17.35300</td><td>0.13800</td><td>11.63752</td><td>0.13818</td><td>7.20539e-16</td><td>9.15824e-17</td><td>7.19290e-03</td><td>2.34000e-05</td><td>6.29300e-09</td><td>4378.1</td><td>VEGA</td><td>johnson_bmag</td><td>10.65008</td><td>0.47775</td><td>16.36556</td><td>0.47780</td><td>1.78910e-15</td><td>7.87332e-16</td><td>148.30</td><td>11.41069</td><td>0.21515</td><td>17.12617</td><td>0.21527</td><td>8.87956e-16</td><td>1.76055e-16</td><td>23.24</td></tr>\n",
       "<tr><td>johnson_vmag</td><td>15.71400</td><td>0.00000</td><td>9.99852</td><td>0.00706</td><td>1.85215e-15</td><td>0.00000e+00</td><td>7.19290e-03</td><td>2.34000e-05</td><td>3.57500e-09</td><td>5466.1</td><td>VEGA</td><td>johnson_vmag</td><td>9.01854</td><td>0.45738</td><td>14.73402</td><td>0.45744</td><td>4.56740e-15</td><td>1.92432e-15</td><td>146.60</td><td>9.72313</td><td>0.16507</td><td>15.43861</td><td>0.16522</td><td>2.38689e-15</td><td>3.63215e-16</td><td>28.87</td></tr>\n",
       "</table>"
      ],
      "text/plain": [
       "<Table length=12>\n",
       "    band     apparent_magnitude ... max_probability_percent_error\n",
       "                    mag         ...               %              \n",
       "   str12          float64       ...            float64           \n",
       "------------ ------------------ ... -----------------------------\n",
       "  2mass_jmag           11.09500 ...                          4.38\n",
       "  2mass_hmag           10.33200 ...                          3.82\n",
       "  2mass_kmag           10.02600 ...                          5.29\n",
       "   gaia_gmag           14.13351 ...                          9.05\n",
       "  gaia_bpmag           15.73287 ...                          2.25\n",
       "  gaia_rpmag           12.91242 ...                         11.08\n",
       "   sdss_gmag           16.45200 ...                          0.35\n",
       "   sdss_rmag           14.84500 ...                          6.39\n",
       "   sdss_imag           13.66800 ...                         12.06\n",
       "   sdss_zmag           12.61300 ...                         13.01\n",
       "johnson_bmag           17.35300 ...                         23.24\n",
       "johnson_vmag           15.71400 ...                         28.87"
      ]
     },
     "execution_count": 8,
     "metadata": {},
     "output_type": "execute_result"
    }
   ],
   "source": [
    "aphot = photometry.to_astropy()\n",
    "aphot"
   ]
  },
  {
   "cell_type": "markdown",
   "metadata": {},
   "source": [
    "Lastly, `chains` holds the flattened posterior distributions for every parameter. The lengths of the chains shorten if they are thinned with the `thin` argument or some of the beginning samples are discarded (i.e., burned-in) with the `discard` argument."
   ]
  },
  {
   "cell_type": "code",
   "execution_count": 9,
   "metadata": {},
   "outputs": [
    {
     "data": {
      "text/html": [
       "<i>Table length=4000</i>\n",
       "<table id=\"table140218624583952\" class=\"table-striped table-bordered table-condensed\">\n",
       "<thead><tr><th>age</th><th>mass</th><th>Av</th><th>f</th><th>radius</th><th>Teff</th><th>density</th></tr></thead>\n",
       "<thead><tr><th>Myr</th><th>solMass</th><th>mag</th><th>mag</th><th>solRad</th><th>K</th><th>solMass / solRad3</th></tr></thead>\n",
       "<thead><tr><th>float64</th><th>float64</th><th>float64</th><th>float64</th><th>float64</th><th>float64</th><th>float64</th></tr></thead>\n",
       "<tr><td>721.848</td><td>1.04203</td><td>0.00601</td><td>0.04363</td><td>1.03515</td><td>5568.74</td><td>0.939441</td></tr>\n",
       "<tr><td>659.022</td><td>1.19216</td><td>0.17987</td><td>0.13537</td><td>1.19175</td><td>6139.89</td><td>0.704335</td></tr>\n",
       "<tr><td>695.83</td><td>1.07443</td><td>0.03734</td><td>0.24152</td><td>1.06825</td><td>5693.93</td><td>0.881362</td></tr>\n",
       "<tr><td>726.639</td><td>1.01561</td><td>0.08116</td><td>0.14095</td><td>1.00758</td><td>5465.41</td><td>0.992853</td></tr>\n",
       "<tr><td>672.642</td><td>1.00628</td><td>0.11445</td><td>0.28552</td><td>0.996311</td><td>5427.93</td><td>1.0175</td></tr>\n",
       "<tr><td>736.559</td><td>1.11525</td><td>0.19088</td><td>0.13574</td><td>1.11314</td><td>5851.91</td><td>0.808592</td></tr>\n",
       "<tr><td>689.67</td><td>1.0824</td><td>0.04641</td><td>0.21309</td><td>1.07637</td><td>5724.62</td><td>0.86797</td></tr>\n",
       "<tr><td>755.273</td><td>1.10161</td><td>0.13503</td><td>0.14303</td><td>1.09922</td><td>5800.44</td><td>0.82942</td></tr>\n",
       "<tr><td>664.1</td><td>0.940509</td><td>0.07706</td><td>0.09640</td><td>0.929618</td><td>5164.33</td><td>1.17071</td></tr>\n",
       "<tr><td>...</td><td>...</td><td>...</td><td>...</td><td>...</td><td>...</td><td>...</td></tr>\n",
       "<tr><td>3110.21</td><td>0.770201</td><td>2.56082</td><td>0.21597</td><td>0.809972</td><td>4395.31</td><td>1.44942</td></tr>\n",
       "<tr><td>9615.47</td><td>0.745136</td><td>2.66876</td><td>0.26220</td><td>0.838314</td><td>4313.13</td><td>1.26478</td></tr>\n",
       "<tr><td>8840.67</td><td>0.774651</td><td>2.92734</td><td>0.31038</td><td>0.86341</td><td>4470.08</td><td>1.20353</td></tr>\n",
       "<tr><td>21.1945</td><td>0.761783</td><td>1.36192</td><td>0.22631</td><td>0.986768</td><td>3643.62</td><td>0.79284</td></tr>\n",
       "<tr><td>7924.94</td><td>0.77547</td><td>2.97470</td><td>0.12474</td><td>0.855664</td><td>4465.65</td><td>1.23782</td></tr>\n",
       "<tr><td>5553.08</td><td>0.781188</td><td>2.85755</td><td>0.37487</td><td>0.839862</td><td>4473.7</td><td>1.31866</td></tr>\n",
       "<tr><td>6384.28</td><td>0.764502</td><td>2.75581</td><td>0.24407</td><td>0.831797</td><td>4390.83</td><td>1.3284</td></tr>\n",
       "<tr><td>9151.83</td><td>0.725771</td><td>2.13346</td><td>0.33482</td><td>0.811781</td><td>4212.08</td><td>1.35669</td></tr>\n",
       "<tr><td>1470.72</td><td>0.736945</td><td>2.21214</td><td>0.32662</td><td>0.767104</td><td>4230.81</td><td>1.63257</td></tr>\n",
       "<tr><td>5488.72</td><td>0.785299</td><td>2.95888</td><td>0.18251</td><td>0.843114</td><td>4494.96</td><td>1.31032</td></tr>\n",
       "</table>"
      ],
      "text/plain": [
       "<Table length=4000>\n",
       "  age     mass      Av      f     radius    Teff       density     \n",
       "  Myr   solMass    mag     mag    solRad     K    solMass / solRad3\n",
       "float64 float64  float64 float64 float64  float64      float64     \n",
       "------- -------- ------- ------- -------- ------- -----------------\n",
       "721.848  1.04203 0.00601 0.04363  1.03515 5568.74          0.939441\n",
       "659.022  1.19216 0.17987 0.13537  1.19175 6139.89          0.704335\n",
       " 695.83  1.07443 0.03734 0.24152  1.06825 5693.93          0.881362\n",
       "726.639  1.01561 0.08116 0.14095  1.00758 5465.41          0.992853\n",
       "672.642  1.00628 0.11445 0.28552 0.996311 5427.93            1.0175\n",
       "736.559  1.11525 0.19088 0.13574  1.11314 5851.91          0.808592\n",
       " 689.67   1.0824 0.04641 0.21309  1.07637 5724.62           0.86797\n",
       "755.273  1.10161 0.13503 0.14303  1.09922 5800.44           0.82942\n",
       "  664.1 0.940509 0.07706 0.09640 0.929618 5164.33           1.17071\n",
       "    ...      ...     ...     ...      ...     ...               ...\n",
       "3110.21 0.770201 2.56082 0.21597 0.809972 4395.31           1.44942\n",
       "9615.47 0.745136 2.66876 0.26220 0.838314 4313.13           1.26478\n",
       "8840.67 0.774651 2.92734 0.31038  0.86341 4470.08           1.20353\n",
       "21.1945 0.761783 1.36192 0.22631 0.986768 3643.62           0.79284\n",
       "7924.94  0.77547 2.97470 0.12474 0.855664 4465.65           1.23782\n",
       "5553.08 0.781188 2.85755 0.37487 0.839862  4473.7           1.31866\n",
       "6384.28 0.764502 2.75581 0.24407 0.831797 4390.83            1.3284\n",
       "9151.83 0.725771 2.13346 0.33482 0.811781 4212.08           1.35669\n",
       "1470.72 0.736945 2.21214 0.32662 0.767104 4230.81           1.63257\n",
       "5488.72 0.785299 2.95888 0.18251 0.843114 4494.96           1.31032"
      ]
     },
     "execution_count": 9,
     "metadata": {},
     "output_type": "execute_result"
    }
   ],
   "source": [
    "achains = chains.to_astropy()\n",
    "achains"
   ]
  },
  {
   "cell_type": "markdown",
   "metadata": {},
   "source": [
    "## Target Metadata <a id='meta'></a>"
   ]
  },
  {
   "cell_type": "markdown",
   "metadata": {},
   "source": [
    "The built-in `Target` class gives us a convenient infrastructure to change or view the metadata specific to our target in the simulation.\n",
    "\n",
    "There are four main attribute categories that can be changed, and each may contain additional modifiable attributes."
   ]
  },
  {
   "cell_type": "markdown",
   "metadata": {},
   "source": [
    "The most basic way the `Target` class can be used is by initializing it with only a name."
   ]
  },
  {
   "cell_type": "code",
   "execution_count": 10,
   "metadata": {},
   "outputs": [],
   "source": [
    "from dsa.radius import Target\n",
    "\n",
    "target = Target('K2-33')"
   ]
  },
  {
   "cell_type": "markdown",
   "metadata": {},
   "source": [
    "Now, `target` has been redifined as a `Target` object instead of just the target name string as it was previously. It can be used in the estimation in exactly the same way as before, i.e., `est = Estimate(target)`. In this case, since we only set the `Target` object with a target name, it behaves the same within the simulation as setting `target = 'K2-33'`. "
   ]
  },
  {
   "cell_type": "markdown",
   "metadata": {},
   "source": [
    "### Using Coordinates <a id='coords'></a>"
   ]
  },
  {
   "cell_type": "markdown",
   "metadata": {},
   "source": [
    "It's possible to pass coordinates for your target if you don't have a name that exists in Vizier. When you initialize a `Target` object, you can pass either an `astropy.coordinates.SkyCoord` object, or you can pass the coordinates as a tuple and any keyword arguments that you would use to create a `SkyCoord` object. See the [astropy documentation](https://docs.astropy.org/en/stable/api/astropy.coordinates.SkyCoord.html) for more details.\n",
    "\n",
    "We still need to give it a name, but now we can call it whatever we want since it won't be used by Vizier.\n",
    "\n",
    "Let's create an arbitrary target called \"my_target\" which we'll say has a right ascension and declination of 100 degrees and  -50 degrees, respectively. Once it's initialized, we can treat it exactly as any of the other `Target` objects we create in this tutorial."
   ]
  },
  {
   "cell_type": "code",
   "execution_count": 11,
   "metadata": {},
   "outputs": [
    {
     "data": {
      "text/plain": [
       "<SkyCoord (ICRS): (ra, dec) in deg\n",
       "    (100., -50.)>"
      ]
     },
     "execution_count": 11,
     "metadata": {},
     "output_type": "execute_result"
    }
   ],
   "source": [
    "my_target = Target('my_target', (100, -50), unit='deg')\n",
    "my_target.coords"
   ]
  },
  {
   "cell_type": "markdown",
   "metadata": {},
   "source": [
    "### Setting Initial Conditions <a id='initial_conditions'></a>"
   ]
  },
  {
   "cell_type": "markdown",
   "metadata": {},
   "source": [
    "The second metadata category includes all of the initial/boundary conditions for the simulation. There are four initial condition attributes that we can manipulate: bounds, prior, position, and perturbation. \n",
    "\n",
    "- *Bounds:* the hard boundaries of the simulation, beyond which the log_probability goes to $-\\infty$ (i.e., the answer cannot lie outside the bounds). Each fit parameter (age, mass, $A_v$, f) has upper and lower bounds that can be easily changed if necessary. Default bounds for age and mass are constrained by the isochronal model that is used by the simulation. Default bounds for $A_v$ and f are loose physical constraints. Bounds are given as (upper, lower) pairs.\n",
    "\n",
    "- *Prior:* the Gaussian (normal) distribution for any of the fit parameters, as well as for effective temperature, which is effectively applied as a prior to age and mass as these two parameters are used to interpolate $T_{eff}$ from the model grid. Priors are given as ($\\mu$, $\\sigma$) pairs, where $\\mu$ and $\\sigma$ are the mean and standard deviation of the distribution, respectively. Priors are all user-defined, thus none are applied by default.\n",
    "\n",
    "- *Position and Perturbation:* these attributes combine to form the initial position for each fit parameter of the MCMC simulation. The position of each walker (in parameter space) is varied randomly from a normal distribution centered on the perturbation for each parameter.\n",
    "\n",
    "For reference, we can view the default initial conditions in `target`."
   ]
  },
  {
   "cell_type": "code",
   "execution_count": 12,
   "metadata": {},
   "outputs": [
    {
     "data": {
      "text/html": [
       "<div>\n",
       "<style scoped>\n",
       "    .dataframe tbody tr th:only-of-type {\n",
       "        vertical-align: middle;\n",
       "    }\n",
       "\n",
       "    .dataframe tbody tr th {\n",
       "        vertical-align: top;\n",
       "    }\n",
       "\n",
       "    .dataframe thead th {\n",
       "        text-align: right;\n",
       "    }\n",
       "</style>\n",
       "<table border=\"1\" class=\"dataframe\">\n",
       "  <thead>\n",
       "    <tr style=\"text-align: right;\">\n",
       "      <th></th>\n",
       "      <th></th>\n",
       "      <th>bounds</th>\n",
       "      <th>prior</th>\n",
       "      <th>position</th>\n",
       "      <th>perturbation</th>\n",
       "    </tr>\n",
       "    <tr>\n",
       "      <th>target</th>\n",
       "      <th>parameter</th>\n",
       "      <th></th>\n",
       "      <th></th>\n",
       "      <th></th>\n",
       "      <th></th>\n",
       "    </tr>\n",
       "  </thead>\n",
       "  <tbody>\n",
       "    <tr>\n",
       "      <th rowspan=\"5\" valign=\"top\">K2-33</th>\n",
       "      <th>age</th>\n",
       "      <td>(1.0, 10000.0)</td>\n",
       "      <td>(nan, nan)</td>\n",
       "      <td>700</td>\n",
       "      <td>35</td>\n",
       "    </tr>\n",
       "    <tr>\n",
       "      <th>mass</th>\n",
       "      <td>(0.09, 2.45)</td>\n",
       "      <td>(nan, nan)</td>\n",
       "      <td>1</td>\n",
       "      <td>0.2</td>\n",
       "    </tr>\n",
       "    <tr>\n",
       "      <th>Av</th>\n",
       "      <td>(0.0, 3.0)</td>\n",
       "      <td>(nan, nan)</td>\n",
       "      <td>0</td>\n",
       "      <td>0.2</td>\n",
       "    </tr>\n",
       "    <tr>\n",
       "      <th>f</th>\n",
       "      <td>(0.0, 2.0)</td>\n",
       "      <td>(nan, nan)</td>\n",
       "      <td>0</td>\n",
       "      <td>0.2</td>\n",
       "    </tr>\n",
       "    <tr>\n",
       "      <th>Teff</th>\n",
       "      <td>(nan, nan)</td>\n",
       "      <td>(nan, nan)</td>\n",
       "      <td>NaN</td>\n",
       "      <td>NaN</td>\n",
       "    </tr>\n",
       "  </tbody>\n",
       "</table>\n",
       "</div>"
      ],
      "text/plain": [
       "                          bounds       prior position perturbation\n",
       "target parameter                                                  \n",
       "K2-33  age        (1.0, 10000.0)  (nan, nan)      700           35\n",
       "       mass         (0.09, 2.45)  (nan, nan)        1          0.2\n",
       "       Av             (0.0, 3.0)  (nan, nan)        0          0.2\n",
       "       f              (0.0, 2.0)  (nan, nan)        0          0.2\n",
       "       Teff           (nan, nan)  (nan, nan)      NaN          NaN"
      ]
     },
     "execution_count": 12,
     "metadata": {},
     "output_type": "execute_result"
    }
   ],
   "source": [
    "target.initial_conditions"
   ]
  },
  {
   "cell_type": "markdown",
   "metadata": {},
   "source": [
    "A look at the estimated photometry, and the wide uncertainty in our fit parameters, shows the simulation was far from accurate in giving us an answer. Fortunately, we can use any prior knowledge we have to modify the prior and give the simulation a better chance at convergence."
   ]
  },
  {
   "cell_type": "markdown",
   "metadata": {},
   "source": [
    "For K2-33, we know $age \\sim 11 \\pm 3$ Myr, $A_v \\sim 0.75 \\pm 0.2$ mag, and $T_{eff} \\sim 3540 \\pm 70$ K. For the purposes of this tutorial, we can also lower the initial age position to $200$ Myr. These initial conditions are set using nested dictionaries for each attribute, and after we set them, we can check them again to make sure they've been applied."
   ]
  },
  {
   "cell_type": "code",
   "execution_count": 13,
   "metadata": {},
   "outputs": [
    {
     "data": {
      "text/html": [
       "<div>\n",
       "<style scoped>\n",
       "    .dataframe tbody tr th:only-of-type {\n",
       "        vertical-align: middle;\n",
       "    }\n",
       "\n",
       "    .dataframe tbody tr th {\n",
       "        vertical-align: top;\n",
       "    }\n",
       "\n",
       "    .dataframe thead th {\n",
       "        text-align: right;\n",
       "    }\n",
       "</style>\n",
       "<table border=\"1\" class=\"dataframe\">\n",
       "  <thead>\n",
       "    <tr style=\"text-align: right;\">\n",
       "      <th></th>\n",
       "      <th></th>\n",
       "      <th>bounds</th>\n",
       "      <th>prior</th>\n",
       "      <th>position</th>\n",
       "      <th>perturbation</th>\n",
       "    </tr>\n",
       "    <tr>\n",
       "      <th>target</th>\n",
       "      <th>parameter</th>\n",
       "      <th></th>\n",
       "      <th></th>\n",
       "      <th></th>\n",
       "      <th></th>\n",
       "    </tr>\n",
       "  </thead>\n",
       "  <tbody>\n",
       "    <tr>\n",
       "      <th rowspan=\"5\" valign=\"top\">K2-33</th>\n",
       "      <th>age</th>\n",
       "      <td>(1.0, 10000.0)</td>\n",
       "      <td>(11, 3)</td>\n",
       "      <td>200</td>\n",
       "      <td>35</td>\n",
       "    </tr>\n",
       "    <tr>\n",
       "      <th>mass</th>\n",
       "      <td>(0.09, 2.45)</td>\n",
       "      <td>(nan, nan)</td>\n",
       "      <td>1</td>\n",
       "      <td>0.2</td>\n",
       "    </tr>\n",
       "    <tr>\n",
       "      <th>Av</th>\n",
       "      <td>(0.0, 3.0)</td>\n",
       "      <td>(0.75, 0.2)</td>\n",
       "      <td>0</td>\n",
       "      <td>0.2</td>\n",
       "    </tr>\n",
       "    <tr>\n",
       "      <th>f</th>\n",
       "      <td>(0.0, 2.0)</td>\n",
       "      <td>(nan, nan)</td>\n",
       "      <td>0</td>\n",
       "      <td>0.2</td>\n",
       "    </tr>\n",
       "    <tr>\n",
       "      <th>Teff</th>\n",
       "      <td>(nan, nan)</td>\n",
       "      <td>(3540, 70)</td>\n",
       "      <td>NaN</td>\n",
       "      <td>NaN</td>\n",
       "    </tr>\n",
       "  </tbody>\n",
       "</table>\n",
       "</div>"
      ],
      "text/plain": [
       "                          bounds        prior position perturbation\n",
       "target parameter                                                   \n",
       "K2-33  age        (1.0, 10000.0)      (11, 3)      200           35\n",
       "       mass         (0.09, 2.45)   (nan, nan)        1          0.2\n",
       "       Av             (0.0, 3.0)  (0.75, 0.2)        0          0.2\n",
       "       f              (0.0, 2.0)   (nan, nan)        0          0.2\n",
       "       Teff           (nan, nan)   (3540, 70)      NaN          NaN"
      ]
     },
     "execution_count": 13,
     "metadata": {},
     "output_type": "execute_result"
    }
   ],
   "source": [
    "target.initial_conditions = {\n",
    "    'prior' : {\n",
    "        'age':(11, 3),\n",
    "        'Av':(0.75, 0.2),\n",
    "        'Teff':(3540, 70)\n",
    "        },\n",
    "    'position' : {\n",
    "        'age':200\n",
    "        }\n",
    "    }\n",
    "\n",
    "target.initial_conditions"
   ]
  },
  {
   "cell_type": "markdown",
   "metadata": {},
   "source": [
    "Now we can run the same simulation as before, with 16 walkers and 250 steps, but with our new `Target` object as `target`."
   ]
  },
  {
   "cell_type": "code",
   "execution_count": 14,
   "metadata": {
    "scrolled": true
   },
   "outputs": [
    {
     "name": "stdout",
     "output_type": "stream",
     "text": [
      "\n",
      "running MCMC for K2-33:\n"
     ]
    },
    {
     "name": "stderr",
     "output_type": "stream",
     "text": [
      "100%|██████████| 250/250 [01:50<00:00,  2.26it/s]\n"
     ]
    },
    {
     "name": "stdout",
     "output_type": "stream",
     "text": [
      "\n",
      "extracting posterior for K2-33:\n",
      "\n",
      "calculating max log probability:\n"
     ]
    },
    {
     "name": "stderr",
     "output_type": "stream",
     "text": [
      "100%|██████████| 4000/4000 [01:01<00:00, 65.21it/s]\n"
     ]
    },
    {
     "name": "stdout",
     "output_type": "stream",
     "text": [
      "\n",
      "getting radius and Teff chains:\n"
     ]
    },
    {
     "name": "stderr",
     "output_type": "stream",
     "text": [
      "100%|██████████| 4000/4000 [00:46<00:00, 86.73it/s] \n"
     ]
    }
   ],
   "source": [
    "est = Estimate(target)\n",
    "\n",
    "sampler = est.run(16, 250)\n",
    "\n",
    "posterior, photometry, chains = est.posterior(sampler)"
   ]
  },
  {
   "cell_type": "markdown",
   "metadata": {},
   "source": [
    "We'll look at `posterior` and `photometry` as their native `DSADataFrame` objects, but they can always be viewed as `astropy.table.Table` objects as explained in the [above section](#dsa_df)."
   ]
  },
  {
   "cell_type": "code",
   "execution_count": 15,
   "metadata": {},
   "outputs": [
    {
     "data": {
      "text/html": [
       "<div>\n",
       "<style scoped>\n",
       "    .dataframe tbody tr th:only-of-type {\n",
       "        vertical-align: middle;\n",
       "    }\n",
       "\n",
       "    .dataframe tbody tr th {\n",
       "        vertical-align: top;\n",
       "    }\n",
       "\n",
       "    .dataframe thead th {\n",
       "        text-align: right;\n",
       "    }\n",
       "</style>\n",
       "<table border=\"1\" class=\"dataframe\">\n",
       "  <thead>\n",
       "    <tr style=\"text-align: right;\">\n",
       "      <th></th>\n",
       "      <th>median</th>\n",
       "      <th>max_probability</th>\n",
       "      <th>uncertainty</th>\n",
       "      <th>+</th>\n",
       "      <th>-</th>\n",
       "    </tr>\n",
       "    <tr>\n",
       "      <th>parameter</th>\n",
       "      <th></th>\n",
       "      <th></th>\n",
       "      <th></th>\n",
       "      <th></th>\n",
       "      <th></th>\n",
       "    </tr>\n",
       "  </thead>\n",
       "  <tbody>\n",
       "    <tr>\n",
       "      <th>age</th>\n",
       "      <td>12.8498</td>\n",
       "      <td>11.1773</td>\n",
       "      <td>4.28657</td>\n",
       "      <td>6.04677</td>\n",
       "      <td>2.52638</td>\n",
       "    </tr>\n",
       "    <tr>\n",
       "      <th>mass</th>\n",
       "      <td>0.591574</td>\n",
       "      <td>0.575914</td>\n",
       "      <td>0.0690733</td>\n",
       "      <td>0.0793507</td>\n",
       "      <td>0.0587958</td>\n",
       "    </tr>\n",
       "    <tr>\n",
       "      <th>Av</th>\n",
       "      <td>0.924243</td>\n",
       "      <td>1.05579</td>\n",
       "      <td>0.343631</td>\n",
       "      <td>0.188227</td>\n",
       "      <td>0.499035</td>\n",
       "    </tr>\n",
       "    <tr>\n",
       "      <th>f</th>\n",
       "      <td>0.172055</td>\n",
       "      <td>0.0949079</td>\n",
       "      <td>0.106491</td>\n",
       "      <td>0.146181</td>\n",
       "      <td>0.0668013</td>\n",
       "    </tr>\n",
       "    <tr>\n",
       "      <th>radius</th>\n",
       "      <td>0.994719</td>\n",
       "      <td>1.02757</td>\n",
       "      <td>0.0597408</td>\n",
       "      <td>0.0501714</td>\n",
       "      <td>0.0693102</td>\n",
       "    </tr>\n",
       "    <tr>\n",
       "      <th>Teff</th>\n",
       "      <td>3494.86</td>\n",
       "      <td>3482.18</td>\n",
       "      <td>58.1804</td>\n",
       "      <td>73.7788</td>\n",
       "      <td>42.582</td>\n",
       "    </tr>\n",
       "    <tr>\n",
       "      <th>density</th>\n",
       "      <td>0.601245</td>\n",
       "      <td>0.53079</td>\n",
       "      <td>0.150023</td>\n",
       "      <td>0.193959</td>\n",
       "      <td>0.106087</td>\n",
       "    </tr>\n",
       "  </tbody>\n",
       "</table>\n",
       "</div>"
      ],
      "text/plain": [
       "            median  max_probability  uncertainty         +         -\n",
       "parameter                                                           \n",
       "age        12.8498          11.1773      4.28657   6.04677   2.52638\n",
       "mass      0.591574         0.575914    0.0690733 0.0793507 0.0587958\n",
       "Av        0.924243          1.05579     0.343631  0.188227  0.499035\n",
       "f         0.172055        0.0949079     0.106491  0.146181 0.0668013\n",
       "radius    0.994719          1.02757    0.0597408 0.0501714 0.0693102\n",
       "Teff       3494.86          3482.18      58.1804   73.7788    42.582\n",
       "density   0.601245          0.53079     0.150023  0.193959  0.106087"
      ]
     },
     "execution_count": 15,
     "metadata": {},
     "output_type": "execute_result"
    }
   ],
   "source": [
    "posterior"
   ]
  },
  {
   "cell_type": "code",
   "execution_count": 16,
   "metadata": {},
   "outputs": [
    {
     "data": {
      "text/html": [
       "<div>\n",
       "<style scoped>\n",
       "    .dataframe tbody tr th:only-of-type {\n",
       "        vertical-align: middle;\n",
       "    }\n",
       "\n",
       "    .dataframe tbody tr th {\n",
       "        vertical-align: top;\n",
       "    }\n",
       "\n",
       "    .dataframe thead th {\n",
       "        text-align: right;\n",
       "    }\n",
       "</style>\n",
       "<table border=\"1\" class=\"dataframe\">\n",
       "  <thead>\n",
       "    <tr style=\"text-align: right;\">\n",
       "      <th></th>\n",
       "      <th>apparent_magnitude</th>\n",
       "      <th>apparent_magnitude_error</th>\n",
       "      <th>ABSOLUTE_MAGNITUDE</th>\n",
       "      <th>ABSOLUTE_MAGNITUDE_ERROR</th>\n",
       "      <th>flux</th>\n",
       "      <th>flux_error</th>\n",
       "      <th>parallax</th>\n",
       "      <th>parallax_error</th>\n",
       "      <th>zeropoint_flux</th>\n",
       "      <th>wavelength</th>\n",
       "      <th>...</th>\n",
       "      <th>median_flux</th>\n",
       "      <th>median_flux_error</th>\n",
       "      <th>median_percent_error</th>\n",
       "      <th>MAX_PROBABILITY_ABSOLUTE_MAGNITUDE</th>\n",
       "      <th>MAX_PROBABILITY_ABSOLUTE_MAGNITUDE_ERROR</th>\n",
       "      <th>max_probability_apparent_magnitude</th>\n",
       "      <th>max_probability_apparent_magnitude_error</th>\n",
       "      <th>max_probability_flux</th>\n",
       "      <th>max_probability_flux_error</th>\n",
       "      <th>max_probability_percent_error</th>\n",
       "    </tr>\n",
       "    <tr>\n",
       "      <th>band</th>\n",
       "      <th></th>\n",
       "      <th></th>\n",
       "      <th></th>\n",
       "      <th></th>\n",
       "      <th></th>\n",
       "      <th></th>\n",
       "      <th></th>\n",
       "      <th></th>\n",
       "      <th></th>\n",
       "      <th></th>\n",
       "      <th></th>\n",
       "      <th></th>\n",
       "      <th></th>\n",
       "      <th></th>\n",
       "      <th></th>\n",
       "      <th></th>\n",
       "      <th></th>\n",
       "      <th></th>\n",
       "      <th></th>\n",
       "      <th></th>\n",
       "      <th></th>\n",
       "    </tr>\n",
       "  </thead>\n",
       "  <tbody>\n",
       "    <tr>\n",
       "      <th>2mass_jmag</th>\n",
       "      <td>11.095</td>\n",
       "      <td>0.023</td>\n",
       "      <td>5.37952</td>\n",
       "      <td>0.0240604</td>\n",
       "      <td>1.14642e-14</td>\n",
       "      <td>2.42855e-16</td>\n",
       "      <td>0.0071929</td>\n",
       "      <td>2.34e-05</td>\n",
       "      <td>3.143e-10</td>\n",
       "      <td>12350</td>\n",
       "      <td>...</td>\n",
       "      <td>1.13114e-14</td>\n",
       "      <td>1.81143e-15</td>\n",
       "      <td>1.33334</td>\n",
       "      <td>5.36722</td>\n",
       "      <td>0.0979102</td>\n",
       "      <td>11.0827</td>\n",
       "      <td>0.0981647</td>\n",
       "      <td>1.15948e-14</td>\n",
       "      <td>1.04832e-15</td>\n",
       "      <td>1.13922</td>\n",
       "    </tr>\n",
       "    <tr>\n",
       "      <th>2mass_hmag</th>\n",
       "      <td>10.332</td>\n",
       "      <td>0.022</td>\n",
       "      <td>4.61652</td>\n",
       "      <td>0.0231064</td>\n",
       "      <td>8.42609e-15</td>\n",
       "      <td>1.70736e-16</td>\n",
       "      <td>0.0071929</td>\n",
       "      <td>2.34e-05</td>\n",
       "      <td>1.144e-10</td>\n",
       "      <td>16620</td>\n",
       "      <td>...</td>\n",
       "      <td>8.33922e-15</td>\n",
       "      <td>1.33447e-15</td>\n",
       "      <td>1.03091</td>\n",
       "      <td>4.5838</td>\n",
       "      <td>0.0976801</td>\n",
       "      <td>10.2993</td>\n",
       "      <td>0.0979352</td>\n",
       "      <td>8.68388e-15</td>\n",
       "      <td>7.83301e-16</td>\n",
       "      <td>3.05942</td>\n",
       "    </tr>\n",
       "    <tr>\n",
       "      <th>2mass_kmag</th>\n",
       "      <td>10.026</td>\n",
       "      <td>0.019</td>\n",
       "      <td>4.31052</td>\n",
       "      <td>0.0202708</td>\n",
       "      <td>4.20411e-15</td>\n",
       "      <td>7.35704e-17</td>\n",
       "      <td>0.0071929</td>\n",
       "      <td>2.34e-05</td>\n",
       "      <td>4.306e-11</td>\n",
       "      <td>21590</td>\n",
       "      <td>...</td>\n",
       "      <td>4.12696e-15</td>\n",
       "      <td>6.59064e-16</td>\n",
       "      <td>1.83507</td>\n",
       "      <td>4.27854</td>\n",
       "      <td>0.0970485</td>\n",
       "      <td>9.99402</td>\n",
       "      <td>0.0973052</td>\n",
       "      <td>4.32977e-15</td>\n",
       "      <td>3.8804e-16</td>\n",
       "      <td>2.98898</td>\n",
       "    </tr>\n",
       "    <tr>\n",
       "      <th>gaia_gmag</th>\n",
       "      <td>14.1335</td>\n",
       "      <td>0.002869</td>\n",
       "      <td>8.41803</td>\n",
       "      <td>0.00762462</td>\n",
       "      <td>5.56168e-15</td>\n",
       "      <td>1.46964e-17</td>\n",
       "      <td>0.0071929</td>\n",
       "      <td>2.34e-05</td>\n",
       "      <td>2.50386e-09</td>\n",
       "      <td>5822.39</td>\n",
       "      <td>...</td>\n",
       "      <td>5.32141e-15</td>\n",
       "      <td>8.44814e-16</td>\n",
       "      <td>4.32005</td>\n",
       "      <td>8.51665</td>\n",
       "      <td>0.0952136</td>\n",
       "      <td>14.2321</td>\n",
       "      <td>0.0954753</td>\n",
       "      <td>5.07874e-15</td>\n",
       "      <td>4.46605e-16</td>\n",
       "      <td>8.68331</td>\n",
       "    </tr>\n",
       "    <tr>\n",
       "      <th>gaia_bpmag</th>\n",
       "      <td>15.7329</td>\n",
       "      <td>0.004843</td>\n",
       "      <td>10.0174</td>\n",
       "      <td>0.00856495</td>\n",
       "      <td>2.07662e-15</td>\n",
       "      <td>9.2629e-18</td>\n",
       "      <td>0.0071929</td>\n",
       "      <td>2.34e-05</td>\n",
       "      <td>4.07852e-09</td>\n",
       "      <td>5035.75</td>\n",
       "      <td>...</td>\n",
       "      <td>2.122e-15</td>\n",
       "      <td>3.36969e-16</td>\n",
       "      <td>2.18518</td>\n",
       "      <td>10.098</td>\n",
       "      <td>0.0952936</td>\n",
       "      <td>15.8135</td>\n",
       "      <td>0.095555</td>\n",
       "      <td>1.92799e-15</td>\n",
       "      <td>1.69681e-16</td>\n",
       "      <td>7.15743</td>\n",
       "    </tr>\n",
       "    <tr>\n",
       "      <th>gaia_rpmag</th>\n",
       "      <td>12.9124</td>\n",
       "      <td>0.004058</td>\n",
       "      <td>7.19694</td>\n",
       "      <td>0.00814684</td>\n",
       "      <td>8.67959e-15</td>\n",
       "      <td>3.24405e-17</td>\n",
       "      <td>0.0071929</td>\n",
       "      <td>2.34e-05</td>\n",
       "      <td>1.26902e-09</td>\n",
       "      <td>7619.96</td>\n",
       "      <td>...</td>\n",
       "      <td>8.15382e-15</td>\n",
       "      <td>1.29466e-15</td>\n",
       "      <td>6.05761</td>\n",
       "      <td>7.29495</td>\n",
       "      <td>0.0952569</td>\n",
       "      <td>13.0104</td>\n",
       "      <td>0.0955185</td>\n",
       "      <td>7.93041e-15</td>\n",
       "      <td>6.97684e-16</td>\n",
       "      <td>8.63152</td>\n",
       "    </tr>\n",
       "    <tr>\n",
       "      <th>sdss_gmag</th>\n",
       "      <td>16.452</td>\n",
       "      <td>0.004</td>\n",
       "      <td>10.7365</td>\n",
       "      <td>0.00811811</td>\n",
       "      <td>1.30943e-15</td>\n",
       "      <td>4.82412e-18</td>\n",
       "      <td>0.0071929</td>\n",
       "      <td>2.34e-05</td>\n",
       "      <td>4.98749e-09</td>\n",
       "      <td>4671.78</td>\n",
       "      <td>...</td>\n",
       "      <td>1.51228e-15</td>\n",
       "      <td>2.40116e-16</td>\n",
       "      <td>15.4912</td>\n",
       "      <td>10.7073</td>\n",
       "      <td>0.0952544</td>\n",
       "      <td>16.4228</td>\n",
       "      <td>0.095516</td>\n",
       "      <td>1.3451e-15</td>\n",
       "      <td>1.18333e-16</td>\n",
       "      <td>2.724</td>\n",
       "    </tr>\n",
       "    <tr>\n",
       "      <th>sdss_rmag</th>\n",
       "      <td>14.845</td>\n",
       "      <td>0.004</td>\n",
       "      <td>9.12952</td>\n",
       "      <td>0.00811811</td>\n",
       "      <td>3.32929e-15</td>\n",
       "      <td>1.22656e-17</td>\n",
       "      <td>0.0071929</td>\n",
       "      <td>2.34e-05</td>\n",
       "      <td>2.88637e-09</td>\n",
       "      <td>6141.12</td>\n",
       "      <td>...</td>\n",
       "      <td>3.21486e-15</td>\n",
       "      <td>5.1045e-16</td>\n",
       "      <td>3.43712</td>\n",
       "      <td>9.26707</td>\n",
       "      <td>0.0952544</td>\n",
       "      <td>14.9826</td>\n",
       "      <td>0.095516</td>\n",
       "      <td>2.93313e-15</td>\n",
       "      <td>2.58038e-16</td>\n",
       "      <td>11.8994</td>\n",
       "    </tr>\n",
       "    <tr>\n",
       "      <th>sdss_imag</th>\n",
       "      <td>13.668</td>\n",
       "      <td>0.001</td>\n",
       "      <td>7.95252</td>\n",
       "      <td>0.00713468</td>\n",
       "      <td>6.67444e-15</td>\n",
       "      <td>6.14739e-18</td>\n",
       "      <td>0.0071929</td>\n",
       "      <td>2.34e-05</td>\n",
       "      <td>1.95711e-09</td>\n",
       "      <td>7457.89</td>\n",
       "      <td>...</td>\n",
       "      <td>7.91247e-15</td>\n",
       "      <td>1.25601e-15</td>\n",
       "      <td>18.5487</td>\n",
       "      <td>7.8112</td>\n",
       "      <td>0.0951757</td>\n",
       "      <td>13.5267</td>\n",
       "      <td>0.0954375</td>\n",
       "      <td>7.60227e-15</td>\n",
       "      <td>6.68249e-16</td>\n",
       "      <td>13.9012</td>\n",
       "    </tr>\n",
       "    <tr>\n",
       "      <th>sdss_zmag</th>\n",
       "      <td>12.613</td>\n",
       "      <td>0.004</td>\n",
       "      <td>6.89752</td>\n",
       "      <td>0.00811811</td>\n",
       "      <td>1.23211e-14</td>\n",
       "      <td>4.53925e-17</td>\n",
       "      <td>0.0071929</td>\n",
       "      <td>2.34e-05</td>\n",
       "      <td>1.36725e-09</td>\n",
       "      <td>8922.78</td>\n",
       "      <td>...</td>\n",
       "      <td>1.15591e-14</td>\n",
       "      <td>1.83534e-15</td>\n",
       "      <td>6.18408</td>\n",
       "      <td>6.97428</td>\n",
       "      <td>0.0952544</td>\n",
       "      <td>12.6898</td>\n",
       "      <td>0.095516</td>\n",
       "      <td>1.148e-14</td>\n",
       "      <td>1.00994e-15</td>\n",
       "      <td>6.82579</td>\n",
       "    </tr>\n",
       "    <tr>\n",
       "      <th>johnson_bmag</th>\n",
       "      <td>17.353</td>\n",
       "      <td>0.138</td>\n",
       "      <td>11.6375</td>\n",
       "      <td>0.138181</td>\n",
       "      <td>7.20539e-16</td>\n",
       "      <td>9.15824e-17</td>\n",
       "      <td>0.0071929</td>\n",
       "      <td>2.34e-05</td>\n",
       "      <td>6.293e-09</td>\n",
       "      <td>4378.1</td>\n",
       "      <td>...</td>\n",
       "      <td>1.10199e-15</td>\n",
       "      <td>2.24092e-16</td>\n",
       "      <td>52.9401</td>\n",
       "      <td>11.3106</td>\n",
       "      <td>0.167635</td>\n",
       "      <td>17.0261</td>\n",
       "      <td>0.167784</td>\n",
       "      <td>9.73665e-16</td>\n",
       "      <td>1.50465e-16</td>\n",
       "      <td>35.1301</td>\n",
       "    </tr>\n",
       "    <tr>\n",
       "      <th>johnson_vmag</th>\n",
       "      <td>15.714</td>\n",
       "      <td>0</td>\n",
       "      <td>9.99852</td>\n",
       "      <td>0.00706425</td>\n",
       "      <td>1.85215e-15</td>\n",
       "      <td>0</td>\n",
       "      <td>0.0071929</td>\n",
       "      <td>2.34e-05</td>\n",
       "      <td>3.575e-09</td>\n",
       "      <td>5466.1</td>\n",
       "      <td>...</td>\n",
       "      <td>2.34484e-15</td>\n",
       "      <td>3.72209e-16</td>\n",
       "      <td>26.6009</td>\n",
       "      <td>9.85341</td>\n",
       "      <td>0.0951704</td>\n",
       "      <td>15.5689</td>\n",
       "      <td>0.0954322</td>\n",
       "      <td>2.117e-15</td>\n",
       "      <td>1.86077e-16</td>\n",
       "      <td>14.2998</td>\n",
       "    </tr>\n",
       "  </tbody>\n",
       "</table>\n",
       "<p>12 rows × 26 columns</p>\n",
       "</div>"
      ],
      "text/plain": [
       "              apparent_magnitude  apparent_magnitude_error  \\\n",
       "band                                                         \n",
       "2mass_jmag                11.095                     0.023   \n",
       "2mass_hmag                10.332                     0.022   \n",
       "2mass_kmag                10.026                     0.019   \n",
       "gaia_gmag                14.1335                  0.002869   \n",
       "gaia_bpmag               15.7329                  0.004843   \n",
       "gaia_rpmag               12.9124                  0.004058   \n",
       "sdss_gmag                 16.452                     0.004   \n",
       "sdss_rmag                 14.845                     0.004   \n",
       "sdss_imag                 13.668                     0.001   \n",
       "sdss_zmag                 12.613                     0.004   \n",
       "johnson_bmag              17.353                     0.138   \n",
       "johnson_vmag              15.714                         0   \n",
       "\n",
       "              ABSOLUTE_MAGNITUDE  ABSOLUTE_MAGNITUDE_ERROR        flux  \\\n",
       "band                                                                     \n",
       "2mass_jmag               5.37952                 0.0240604 1.14642e-14   \n",
       "2mass_hmag               4.61652                 0.0231064 8.42609e-15   \n",
       "2mass_kmag               4.31052                 0.0202708 4.20411e-15   \n",
       "gaia_gmag                8.41803                0.00762462 5.56168e-15   \n",
       "gaia_bpmag               10.0174                0.00856495 2.07662e-15   \n",
       "gaia_rpmag               7.19694                0.00814684 8.67959e-15   \n",
       "sdss_gmag                10.7365                0.00811811 1.30943e-15   \n",
       "sdss_rmag                9.12952                0.00811811 3.32929e-15   \n",
       "sdss_imag                7.95252                0.00713468 6.67444e-15   \n",
       "sdss_zmag                6.89752                0.00811811 1.23211e-14   \n",
       "johnson_bmag             11.6375                  0.138181 7.20539e-16   \n",
       "johnson_vmag             9.99852                0.00706425 1.85215e-15   \n",
       "\n",
       "              flux_error  parallax  parallax_error  zeropoint_flux  \\\n",
       "band                                                                 \n",
       "2mass_jmag   2.42855e-16 0.0071929        2.34e-05       3.143e-10   \n",
       "2mass_hmag   1.70736e-16 0.0071929        2.34e-05       1.144e-10   \n",
       "2mass_kmag   7.35704e-17 0.0071929        2.34e-05       4.306e-11   \n",
       "gaia_gmag    1.46964e-17 0.0071929        2.34e-05     2.50386e-09   \n",
       "gaia_bpmag    9.2629e-18 0.0071929        2.34e-05     4.07852e-09   \n",
       "gaia_rpmag   3.24405e-17 0.0071929        2.34e-05     1.26902e-09   \n",
       "sdss_gmag    4.82412e-18 0.0071929        2.34e-05     4.98749e-09   \n",
       "sdss_rmag    1.22656e-17 0.0071929        2.34e-05     2.88637e-09   \n",
       "sdss_imag    6.14739e-18 0.0071929        2.34e-05     1.95711e-09   \n",
       "sdss_zmag    4.53925e-17 0.0071929        2.34e-05     1.36725e-09   \n",
       "johnson_bmag 9.15824e-17 0.0071929        2.34e-05       6.293e-09   \n",
       "johnson_vmag           0 0.0071929        2.34e-05       3.575e-09   \n",
       "\n",
       "              wavelength  ... median_flux median_flux_error  \\\n",
       "band                      ...                                 \n",
       "2mass_jmag         12350  ... 1.13114e-14       1.81143e-15   \n",
       "2mass_hmag         16620  ... 8.33922e-15       1.33447e-15   \n",
       "2mass_kmag         21590  ... 4.12696e-15       6.59064e-16   \n",
       "gaia_gmag        5822.39  ... 5.32141e-15       8.44814e-16   \n",
       "gaia_bpmag       5035.75  ...   2.122e-15       3.36969e-16   \n",
       "gaia_rpmag       7619.96  ... 8.15382e-15       1.29466e-15   \n",
       "sdss_gmag        4671.78  ... 1.51228e-15       2.40116e-16   \n",
       "sdss_rmag        6141.12  ... 3.21486e-15        5.1045e-16   \n",
       "sdss_imag        7457.89  ... 7.91247e-15       1.25601e-15   \n",
       "sdss_zmag        8922.78  ... 1.15591e-14       1.83534e-15   \n",
       "johnson_bmag      4378.1  ... 1.10199e-15       2.24092e-16   \n",
       "johnson_vmag      5466.1  ... 2.34484e-15       3.72209e-16   \n",
       "\n",
       "              median_percent_error  MAX_PROBABILITY_ABSOLUTE_MAGNITUDE  \\\n",
       "band                                                                     \n",
       "2mass_jmag                 1.33334                             5.36722   \n",
       "2mass_hmag                 1.03091                              4.5838   \n",
       "2mass_kmag                 1.83507                             4.27854   \n",
       "gaia_gmag                  4.32005                             8.51665   \n",
       "gaia_bpmag                 2.18518                              10.098   \n",
       "gaia_rpmag                 6.05761                             7.29495   \n",
       "sdss_gmag                  15.4912                             10.7073   \n",
       "sdss_rmag                  3.43712                             9.26707   \n",
       "sdss_imag                  18.5487                              7.8112   \n",
       "sdss_zmag                  6.18408                             6.97428   \n",
       "johnson_bmag               52.9401                             11.3106   \n",
       "johnson_vmag               26.6009                             9.85341   \n",
       "\n",
       "              MAX_PROBABILITY_ABSOLUTE_MAGNITUDE_ERROR  \\\n",
       "band                                                     \n",
       "2mass_jmag                                   0.0979102   \n",
       "2mass_hmag                                   0.0976801   \n",
       "2mass_kmag                                   0.0970485   \n",
       "gaia_gmag                                    0.0952136   \n",
       "gaia_bpmag                                   0.0952936   \n",
       "gaia_rpmag                                   0.0952569   \n",
       "sdss_gmag                                    0.0952544   \n",
       "sdss_rmag                                    0.0952544   \n",
       "sdss_imag                                    0.0951757   \n",
       "sdss_zmag                                    0.0952544   \n",
       "johnson_bmag                                  0.167635   \n",
       "johnson_vmag                                 0.0951704   \n",
       "\n",
       "              max_probability_apparent_magnitude  \\\n",
       "band                                               \n",
       "2mass_jmag                               11.0827   \n",
       "2mass_hmag                               10.2993   \n",
       "2mass_kmag                               9.99402   \n",
       "gaia_gmag                                14.2321   \n",
       "gaia_bpmag                               15.8135   \n",
       "gaia_rpmag                               13.0104   \n",
       "sdss_gmag                                16.4228   \n",
       "sdss_rmag                                14.9826   \n",
       "sdss_imag                                13.5267   \n",
       "sdss_zmag                                12.6898   \n",
       "johnson_bmag                             17.0261   \n",
       "johnson_vmag                             15.5689   \n",
       "\n",
       "              max_probability_apparent_magnitude_error  max_probability_flux  \\\n",
       "band                                                                           \n",
       "2mass_jmag                                   0.0981647           1.15948e-14   \n",
       "2mass_hmag                                   0.0979352           8.68388e-15   \n",
       "2mass_kmag                                   0.0973052           4.32977e-15   \n",
       "gaia_gmag                                    0.0954753           5.07874e-15   \n",
       "gaia_bpmag                                    0.095555           1.92799e-15   \n",
       "gaia_rpmag                                   0.0955185           7.93041e-15   \n",
       "sdss_gmag                                     0.095516            1.3451e-15   \n",
       "sdss_rmag                                     0.095516           2.93313e-15   \n",
       "sdss_imag                                    0.0954375           7.60227e-15   \n",
       "sdss_zmag                                     0.095516             1.148e-14   \n",
       "johnson_bmag                                  0.167784           9.73665e-16   \n",
       "johnson_vmag                                 0.0954322             2.117e-15   \n",
       "\n",
       "              max_probability_flux_error  max_probability_percent_error  \n",
       "band                                                                     \n",
       "2mass_jmag                   1.04832e-15                        1.13922  \n",
       "2mass_hmag                   7.83301e-16                        3.05942  \n",
       "2mass_kmag                    3.8804e-16                        2.98898  \n",
       "gaia_gmag                    4.46605e-16                        8.68331  \n",
       "gaia_bpmag                   1.69681e-16                        7.15743  \n",
       "gaia_rpmag                   6.97684e-16                        8.63152  \n",
       "sdss_gmag                    1.18333e-16                          2.724  \n",
       "sdss_rmag                    2.58038e-16                        11.8994  \n",
       "sdss_imag                    6.68249e-16                        13.9012  \n",
       "sdss_zmag                    1.00994e-15                        6.82579  \n",
       "johnson_bmag                 1.50465e-16                        35.1301  \n",
       "johnson_vmag                 1.86077e-16                        14.2998  \n",
       "\n",
       "[12 rows x 26 columns]"
      ]
     },
     "execution_count": 16,
     "metadata": {},
     "output_type": "execute_result"
    }
   ],
   "source": [
    "photometry"
   ]
  },
  {
   "cell_type": "markdown",
   "metadata": {},
   "source": [
    "It's clear that the prior made a difference, especially looking at the estimated fit parameters."
   ]
  },
  {
   "cell_type": "markdown",
   "metadata": {},
   "source": [
    "### Using Different Moves <a id='moves'></a>"
   ]
  },
  {
   "cell_type": "markdown",
   "metadata": {},
   "source": [
    "Also built into the `Target` infrastructure is the ability to use different ensemble moves. A good description of what these are and their basic usage can be found in the [`emcee` moves tutorial](https://emcee.readthedocs.io/en/stable/tutorials/moves/). All of the available moves and their references in the literature can be found in [this section](https://emcee.readthedocs.io/en/stable/user/moves/) of the `emcee` documentation.\n",
    "\n",
    "`dsa.radius` gives the ability to use four of these moves: `StretchMove`, `DEMove`, `DESnookerMove`, and `KDEMove`, all from `emcee`. They can be accessed via the keywords `\"stretch\"`, `\"DE\"`, `\"snooker\"`, and `\"KDE\"`, respectively. The keywords are not case-sensitive. Along with a keyword, a weight must be applied to each move. Any arguments can also be given to each move function as you would with `emcee`. \n",
    "\n",
    "`StretchMove` with a weight of 1.0 is the default move."
   ]
  },
  {
   "cell_type": "code",
   "execution_count": 17,
   "metadata": {},
   "outputs": [
    {
     "data": {
      "text/plain": [
       "[(<emcee.moves.stretch.StretchMove at 0x7f8741165b50>, 1.0)]"
      ]
     },
     "execution_count": 17,
     "metadata": {},
     "output_type": "execute_result"
    }
   ],
   "source": [
    "target.moves"
   ]
  },
  {
   "cell_type": "markdown",
   "metadata": {},
   "source": [
    "To modify the moves for a target, we assign a list to `target.moves`."
   ]
  },
  {
   "cell_type": "code",
   "execution_count": 18,
   "metadata": {},
   "outputs": [
    {
     "data": {
      "text/html": [
       "<div>\n",
       "<style scoped>\n",
       "    .dataframe tbody tr th:only-of-type {\n",
       "        vertical-align: middle;\n",
       "    }\n",
       "\n",
       "    .dataframe tbody tr th {\n",
       "        vertical-align: top;\n",
       "    }\n",
       "\n",
       "    .dataframe thead th {\n",
       "        text-align: right;\n",
       "    }\n",
       "</style>\n",
       "<table border=\"1\" class=\"dataframe\">\n",
       "  <thead>\n",
       "    <tr style=\"text-align: right;\">\n",
       "      <th></th>\n",
       "      <th></th>\n",
       "      <th>bounds</th>\n",
       "      <th>prior</th>\n",
       "      <th>position</th>\n",
       "      <th>perturbation</th>\n",
       "    </tr>\n",
       "    <tr>\n",
       "      <th>target</th>\n",
       "      <th>parameter</th>\n",
       "      <th></th>\n",
       "      <th></th>\n",
       "      <th></th>\n",
       "      <th></th>\n",
       "    </tr>\n",
       "  </thead>\n",
       "  <tbody>\n",
       "    <tr>\n",
       "      <th rowspan=\"5\" valign=\"top\">K2-33</th>\n",
       "      <th>age</th>\n",
       "      <td>(1.0, 10000.0)</td>\n",
       "      <td>(11, 3)</td>\n",
       "      <td>200</td>\n",
       "      <td>35</td>\n",
       "    </tr>\n",
       "    <tr>\n",
       "      <th>mass</th>\n",
       "      <td>(0.09, 2.45)</td>\n",
       "      <td>(nan, nan)</td>\n",
       "      <td>1</td>\n",
       "      <td>0.2</td>\n",
       "    </tr>\n",
       "    <tr>\n",
       "      <th>Av</th>\n",
       "      <td>(0.0, 3.0)</td>\n",
       "      <td>(0.75, 0.2)</td>\n",
       "      <td>0</td>\n",
       "      <td>0.2</td>\n",
       "    </tr>\n",
       "    <tr>\n",
       "      <th>f</th>\n",
       "      <td>(0.0, 2.0)</td>\n",
       "      <td>(nan, nan)</td>\n",
       "      <td>0</td>\n",
       "      <td>0.2</td>\n",
       "    </tr>\n",
       "    <tr>\n",
       "      <th>Teff</th>\n",
       "      <td>(nan, nan)</td>\n",
       "      <td>(3540, 70)</td>\n",
       "      <td>NaN</td>\n",
       "      <td>NaN</td>\n",
       "    </tr>\n",
       "  </tbody>\n",
       "</table>\n",
       "</div>"
      ],
      "text/plain": [
       "                          bounds        prior position perturbation\n",
       "target parameter                                                   \n",
       "K2-33  age        (1.0, 10000.0)      (11, 3)      200           35\n",
       "       mass         (0.09, 2.45)   (nan, nan)        1          0.2\n",
       "       Av             (0.0, 3.0)  (0.75, 0.2)        0          0.2\n",
       "       f              (0.0, 2.0)   (nan, nan)        0          0.2\n",
       "       Teff           (nan, nan)   (3540, 70)      NaN          NaN"
      ]
     },
     "metadata": {},
     "output_type": "display_data"
    },
    {
     "data": {
      "text/plain": [
       "[(<emcee.moves.de_snooker.DESnookerMove at 0x7f8751afb5b0>, 0.5),\n",
       " (<emcee.moves.de.DEMove at 0x7f8751afb670>, 0.3),\n",
       " (<emcee.moves.stretch.StretchMove at 0x7f8751afb520>, 0.2)]"
      ]
     },
     "metadata": {},
     "output_type": "display_data"
    }
   ],
   "source": [
    "target.moves = [\n",
    "    ('snooker', 0.5), \n",
    "    ('DE', 0.3), \n",
    "    ('stretch', 0.2, 4.0)\n",
    "    ]\n",
    "\n",
    "display(target.initial_conditions, target.moves)"
   ]
  },
  {
   "cell_type": "markdown",
   "metadata": {},
   "source": [
    "Now, we have the same initial conditions as we had in our second run, but we have a mix of moves: `DESnookerMove` weighted at 0.5, `DEMove` weighted at 0.3, and `StretchMove` weighted at 0.2. The additional argument for the latter is specific to `emcee.moves.StretchMove` and assigns the stretch scale parameter `a` (default: 2.0). This configuration of moves is given just as an example for the tutorial, so there's no guarantee of it being useful for this problem."
   ]
  },
  {
   "cell_type": "code",
   "execution_count": 19,
   "metadata": {},
   "outputs": [
    {
     "name": "stdout",
     "output_type": "stream",
     "text": [
      "\n",
      "running MCMC for K2-33:\n"
     ]
    },
    {
     "name": "stderr",
     "output_type": "stream",
     "text": [
      "100%|██████████| 250/250 [01:53<00:00,  2.21it/s]\n"
     ]
    },
    {
     "name": "stdout",
     "output_type": "stream",
     "text": [
      "\n",
      "extracting posterior for K2-33:\n",
      "\n",
      "calculating max log probability:\n"
     ]
    },
    {
     "name": "stderr",
     "output_type": "stream",
     "text": [
      "100%|██████████| 4000/4000 [01:04<00:00, 62.34it/s]\n"
     ]
    },
    {
     "name": "stdout",
     "output_type": "stream",
     "text": [
      "\n",
      "getting radius and Teff chains:\n"
     ]
    },
    {
     "name": "stderr",
     "output_type": "stream",
     "text": [
      "100%|██████████| 4000/4000 [00:48<00:00, 82.56it/s]\n"
     ]
    }
   ],
   "source": [
    "est = Estimate(target)\n",
    "\n",
    "sampler = est.run(16, 250)\n",
    "\n",
    "posterior, photometry, chains = est.posterior(sampler)"
   ]
  },
  {
   "cell_type": "markdown",
   "metadata": {},
   "source": [
    "### Adding/Removing Photometry <a id='photometry'></a>"
   ]
  },
  {
   "cell_type": "markdown",
   "metadata": {},
   "source": [
    "Depending on the target, it might be useful to add or remove photometry to the simulation. Like initial conditions and moves, photometry can be accessed within the `Target` infrastructure.\n",
    "\n",
    "We'll switch to a different target (HD 5015) to demonstrate this."
   ]
  },
  {
   "cell_type": "code",
   "execution_count": 20,
   "metadata": {},
   "outputs": [
    {
     "data": {
      "text/html": [
       "<div>\n",
       "<style scoped>\n",
       "    .dataframe tbody tr th:only-of-type {\n",
       "        vertical-align: middle;\n",
       "    }\n",
       "\n",
       "    .dataframe tbody tr th {\n",
       "        vertical-align: top;\n",
       "    }\n",
       "\n",
       "    .dataframe thead th {\n",
       "        text-align: right;\n",
       "    }\n",
       "</style>\n",
       "<table border=\"1\" class=\"dataframe\">\n",
       "  <thead>\n",
       "    <tr style=\"text-align: right;\">\n",
       "      <th></th>\n",
       "      <th></th>\n",
       "      <th>magnitude</th>\n",
       "      <th>error</th>\n",
       "      <th>system</th>\n",
       "      <th>isochrone_analog</th>\n",
       "    </tr>\n",
       "    <tr>\n",
       "      <th>catalog</th>\n",
       "      <th>band</th>\n",
       "      <th></th>\n",
       "      <th></th>\n",
       "      <th></th>\n",
       "      <th></th>\n",
       "    </tr>\n",
       "  </thead>\n",
       "  <tbody>\n",
       "    <tr>\n",
       "      <th rowspan=\"3\" valign=\"top\">II/246/out</th>\n",
       "      <th>2mass_jmag</th>\n",
       "      <td>Jmag</td>\n",
       "      <td>e_Jmag</td>\n",
       "      <td>VEGA</td>\n",
       "      <td>2mass_jmag</td>\n",
       "    </tr>\n",
       "    <tr>\n",
       "      <th>2mass_hmag</th>\n",
       "      <td>Hmag</td>\n",
       "      <td>e_Hmag</td>\n",
       "      <td>VEGA</td>\n",
       "      <td>2mass_hmag</td>\n",
       "    </tr>\n",
       "    <tr>\n",
       "      <th>2mass_kmag</th>\n",
       "      <td>Kmag</td>\n",
       "      <td>e_Kmag</td>\n",
       "      <td>VEGA</td>\n",
       "      <td>2mass_kmag</td>\n",
       "    </tr>\n",
       "    <tr>\n",
       "      <th rowspan=\"3\" valign=\"top\">I/350/gaiaedr3</th>\n",
       "      <th>gaia_gmag</th>\n",
       "      <td>Gmag</td>\n",
       "      <td>e_Gmag</td>\n",
       "      <td>VEGA</td>\n",
       "      <td>gaia_gmag</td>\n",
       "    </tr>\n",
       "    <tr>\n",
       "      <th>gaia_bpmag</th>\n",
       "      <td>BPmag</td>\n",
       "      <td>e_BPmag</td>\n",
       "      <td>VEGA</td>\n",
       "      <td>gaia_bpmag</td>\n",
       "    </tr>\n",
       "    <tr>\n",
       "      <th>gaia_rpmag</th>\n",
       "      <td>RPmag</td>\n",
       "      <td>e_RPmag</td>\n",
       "      <td>VEGA</td>\n",
       "      <td>gaia_rpmag</td>\n",
       "    </tr>\n",
       "    <tr>\n",
       "      <th rowspan=\"4\" valign=\"top\">V/147/sdss12</th>\n",
       "      <th>sdss_gmag</th>\n",
       "      <td>gmag</td>\n",
       "      <td>e_gmag</td>\n",
       "      <td>AB</td>\n",
       "      <td>sdss_gmag</td>\n",
       "    </tr>\n",
       "    <tr>\n",
       "      <th>sdss_rmag</th>\n",
       "      <td>rmag</td>\n",
       "      <td>e_rmag</td>\n",
       "      <td>AB</td>\n",
       "      <td>sdss_rmag</td>\n",
       "    </tr>\n",
       "    <tr>\n",
       "      <th>sdss_imag</th>\n",
       "      <td>imag</td>\n",
       "      <td>e_imag</td>\n",
       "      <td>AB</td>\n",
       "      <td>sdss_imag</td>\n",
       "    </tr>\n",
       "    <tr>\n",
       "      <th>sdss_zmag</th>\n",
       "      <td>zmag</td>\n",
       "      <td>e_zmag</td>\n",
       "      <td>AB</td>\n",
       "      <td>sdss_zmag</td>\n",
       "    </tr>\n",
       "    <tr>\n",
       "      <th rowspan=\"2\" valign=\"top\">II/336/apass9</th>\n",
       "      <th>johnson_bmag</th>\n",
       "      <td>Bmag</td>\n",
       "      <td>e_Bmag</td>\n",
       "      <td>VEGA</td>\n",
       "      <td>johnson_bmag</td>\n",
       "    </tr>\n",
       "    <tr>\n",
       "      <th>johnson_vmag</th>\n",
       "      <td>Vmag</td>\n",
       "      <td>e_Vmag</td>\n",
       "      <td>VEGA</td>\n",
       "      <td>johnson_vmag</td>\n",
       "    </tr>\n",
       "    <tr>\n",
       "      <th rowspan=\"2\" valign=\"top\">I/259/tyc2</th>\n",
       "      <th>tycho_bmag</th>\n",
       "      <td>BTmag</td>\n",
       "      <td>e_BTmag</td>\n",
       "      <td>VEGA</td>\n",
       "      <td>tycho_bmag</td>\n",
       "    </tr>\n",
       "    <tr>\n",
       "      <th>tycho_vmag</th>\n",
       "      <td>VTmag</td>\n",
       "      <td>e_VTmag</td>\n",
       "      <td>VEGA</td>\n",
       "      <td>tycho_vmag</td>\n",
       "    </tr>\n",
       "  </tbody>\n",
       "</table>\n",
       "</div>"
      ],
      "text/plain": [
       "                            magnitude    error system isochrone_analog\n",
       "catalog        band                                                   \n",
       "II/246/out     2mass_jmag        Jmag   e_Jmag   VEGA       2mass_jmag\n",
       "               2mass_hmag        Hmag   e_Hmag   VEGA       2mass_hmag\n",
       "               2mass_kmag        Kmag   e_Kmag   VEGA       2mass_kmag\n",
       "I/350/gaiaedr3 gaia_gmag         Gmag   e_Gmag   VEGA        gaia_gmag\n",
       "               gaia_bpmag       BPmag  e_BPmag   VEGA       gaia_bpmag\n",
       "               gaia_rpmag       RPmag  e_RPmag   VEGA       gaia_rpmag\n",
       "V/147/sdss12   sdss_gmag         gmag   e_gmag     AB        sdss_gmag\n",
       "               sdss_rmag         rmag   e_rmag     AB        sdss_rmag\n",
       "               sdss_imag         imag   e_imag     AB        sdss_imag\n",
       "               sdss_zmag         zmag   e_zmag     AB        sdss_zmag\n",
       "II/336/apass9  johnson_bmag      Bmag   e_Bmag   VEGA     johnson_bmag\n",
       "               johnson_vmag      Vmag   e_Vmag   VEGA     johnson_vmag\n",
       "I/259/tyc2     tycho_bmag       BTmag  e_BTmag   VEGA       tycho_bmag\n",
       "               tycho_vmag       VTmag  e_VTmag   VEGA       tycho_vmag"
      ]
     },
     "execution_count": 20,
     "metadata": {},
     "output_type": "execute_result"
    }
   ],
   "source": [
    "target2 = Target('HD 5015')\n",
    "\n",
    "target2.photometry_meta"
   ]
  },
  {
   "cell_type": "markdown",
   "metadata": {},
   "source": [
    "#### Adding Photometry <a id='adding'></a>"
   ]
  },
  {
   "cell_type": "markdown",
   "metadata": {},
   "source": [
    "At the beginning of each run, before the start of the MCMC simulation, `dsa` searches Vizier to see if the target has photometry in any of the above catalogs. If there are relevant magnitudes in a catalog, they are stored in `photometry`. By default, there are a total of 5 catalogs and 14 bands that can be used, against which the simulation will try to fit the synthetic photometry (via `age`, `mass`, `Av`, and `f`). Most of the time, a target will not have measurements in all of these bands, which is why it can be useful to add more if you know more exists elsewhere.\n",
    "\n",
    "Suppose we want to add photometry from the Hipparcos catalog. We'll use the `add_photometry` attribute of our `target2` object, where we will pass a nested dictionary similar to those we assign to `target.initial_conditions`. The highest level key in the dictionary is the name of the catalog. For Hipparcos, we will use `'I/239/hip_main'`. The catalog assigns another dictionary whose keys are the names of the bands. These are only relevant as indices in `photometry` (they are not used by Vizier), so they can be whatever you want. Each band assigns a tuple which contains four strings: the first two represent the column names of the magnitude and error, respectively, in the Vizier table. The third value is the magnitude system (either 'vega' or 'AB'). These first three values are required. The fourth value tells `dsa` which of the bands in the isochronal grid is analogous to this new band. This is an optional requirement, but highly recommended. If no analog is given, the band name is used. The list of available analogs is given by `target2.isochrone_analogs`."
   ]
  },
  {
   "cell_type": "code",
   "execution_count": 21,
   "metadata": {},
   "outputs": [
    {
     "data": {
      "text/html": [
       "<div>\n",
       "<style scoped>\n",
       "    .dataframe tbody tr th:only-of-type {\n",
       "        vertical-align: middle;\n",
       "    }\n",
       "\n",
       "    .dataframe tbody tr th {\n",
       "        vertical-align: top;\n",
       "    }\n",
       "\n",
       "    .dataframe thead th {\n",
       "        text-align: right;\n",
       "    }\n",
       "</style>\n",
       "<table border=\"1\" class=\"dataframe\">\n",
       "  <thead>\n",
       "    <tr style=\"text-align: right;\">\n",
       "      <th></th>\n",
       "      <th></th>\n",
       "      <th>magnitude</th>\n",
       "      <th>error</th>\n",
       "      <th>system</th>\n",
       "      <th>isochrone_analog</th>\n",
       "    </tr>\n",
       "    <tr>\n",
       "      <th>catalog</th>\n",
       "      <th>band</th>\n",
       "      <th></th>\n",
       "      <th></th>\n",
       "      <th></th>\n",
       "      <th></th>\n",
       "    </tr>\n",
       "  </thead>\n",
       "  <tbody>\n",
       "    <tr>\n",
       "      <th rowspan=\"3\" valign=\"top\">II/246/out</th>\n",
       "      <th>2mass_jmag</th>\n",
       "      <td>Jmag</td>\n",
       "      <td>e_Jmag</td>\n",
       "      <td>VEGA</td>\n",
       "      <td>2mass_jmag</td>\n",
       "    </tr>\n",
       "    <tr>\n",
       "      <th>2mass_hmag</th>\n",
       "      <td>Hmag</td>\n",
       "      <td>e_Hmag</td>\n",
       "      <td>VEGA</td>\n",
       "      <td>2mass_hmag</td>\n",
       "    </tr>\n",
       "    <tr>\n",
       "      <th>2mass_kmag</th>\n",
       "      <td>Kmag</td>\n",
       "      <td>e_Kmag</td>\n",
       "      <td>VEGA</td>\n",
       "      <td>2mass_kmag</td>\n",
       "    </tr>\n",
       "    <tr>\n",
       "      <th rowspan=\"3\" valign=\"top\">I/350/gaiaedr3</th>\n",
       "      <th>gaia_gmag</th>\n",
       "      <td>Gmag</td>\n",
       "      <td>e_Gmag</td>\n",
       "      <td>VEGA</td>\n",
       "      <td>gaia_gmag</td>\n",
       "    </tr>\n",
       "    <tr>\n",
       "      <th>gaia_bpmag</th>\n",
       "      <td>BPmag</td>\n",
       "      <td>e_BPmag</td>\n",
       "      <td>VEGA</td>\n",
       "      <td>gaia_bpmag</td>\n",
       "    </tr>\n",
       "    <tr>\n",
       "      <th>gaia_rpmag</th>\n",
       "      <td>RPmag</td>\n",
       "      <td>e_RPmag</td>\n",
       "      <td>VEGA</td>\n",
       "      <td>gaia_rpmag</td>\n",
       "    </tr>\n",
       "    <tr>\n",
       "      <th rowspan=\"4\" valign=\"top\">V/147/sdss12</th>\n",
       "      <th>sdss_gmag</th>\n",
       "      <td>gmag</td>\n",
       "      <td>e_gmag</td>\n",
       "      <td>AB</td>\n",
       "      <td>sdss_gmag</td>\n",
       "    </tr>\n",
       "    <tr>\n",
       "      <th>sdss_rmag</th>\n",
       "      <td>rmag</td>\n",
       "      <td>e_rmag</td>\n",
       "      <td>AB</td>\n",
       "      <td>sdss_rmag</td>\n",
       "    </tr>\n",
       "    <tr>\n",
       "      <th>sdss_imag</th>\n",
       "      <td>imag</td>\n",
       "      <td>e_imag</td>\n",
       "      <td>AB</td>\n",
       "      <td>sdss_imag</td>\n",
       "    </tr>\n",
       "    <tr>\n",
       "      <th>sdss_zmag</th>\n",
       "      <td>zmag</td>\n",
       "      <td>e_zmag</td>\n",
       "      <td>AB</td>\n",
       "      <td>sdss_zmag</td>\n",
       "    </tr>\n",
       "    <tr>\n",
       "      <th rowspan=\"2\" valign=\"top\">II/336/apass9</th>\n",
       "      <th>johnson_bmag</th>\n",
       "      <td>Bmag</td>\n",
       "      <td>e_Bmag</td>\n",
       "      <td>VEGA</td>\n",
       "      <td>johnson_bmag</td>\n",
       "    </tr>\n",
       "    <tr>\n",
       "      <th>johnson_vmag</th>\n",
       "      <td>Vmag</td>\n",
       "      <td>e_Vmag</td>\n",
       "      <td>VEGA</td>\n",
       "      <td>johnson_vmag</td>\n",
       "    </tr>\n",
       "    <tr>\n",
       "      <th rowspan=\"2\" valign=\"top\">I/259/tyc2</th>\n",
       "      <th>tycho_bmag</th>\n",
       "      <td>BTmag</td>\n",
       "      <td>e_BTmag</td>\n",
       "      <td>VEGA</td>\n",
       "      <td>tycho_bmag</td>\n",
       "    </tr>\n",
       "    <tr>\n",
       "      <th>tycho_vmag</th>\n",
       "      <td>VTmag</td>\n",
       "      <td>e_VTmag</td>\n",
       "      <td>VEGA</td>\n",
       "      <td>tycho_vmag</td>\n",
       "    </tr>\n",
       "    <tr>\n",
       "      <th rowspan=\"3\" valign=\"top\">I/239/hip_main</th>\n",
       "      <th>hipparcos_btmag</th>\n",
       "      <td>BTmag</td>\n",
       "      <td>e_BTmag</td>\n",
       "      <td>vega</td>\n",
       "      <td>tycho_bmag</td>\n",
       "    </tr>\n",
       "    <tr>\n",
       "      <th>hipparcos_vtmag</th>\n",
       "      <td>VTmag</td>\n",
       "      <td>e_VTmag</td>\n",
       "      <td>vega</td>\n",
       "      <td>tycho_vmag</td>\n",
       "    </tr>\n",
       "    <tr>\n",
       "      <th>hipparcos_hpmag</th>\n",
       "      <td>Hpmag</td>\n",
       "      <td>e_Hpmag</td>\n",
       "      <td>vega</td>\n",
       "      <td>hipparcos_hpmag</td>\n",
       "    </tr>\n",
       "  </tbody>\n",
       "</table>\n",
       "</div>"
      ],
      "text/plain": [
       "                               magnitude    error system isochrone_analog\n",
       "catalog        band                                                      \n",
       "II/246/out     2mass_jmag           Jmag   e_Jmag   VEGA       2mass_jmag\n",
       "               2mass_hmag           Hmag   e_Hmag   VEGA       2mass_hmag\n",
       "               2mass_kmag           Kmag   e_Kmag   VEGA       2mass_kmag\n",
       "I/350/gaiaedr3 gaia_gmag            Gmag   e_Gmag   VEGA        gaia_gmag\n",
       "               gaia_bpmag          BPmag  e_BPmag   VEGA       gaia_bpmag\n",
       "               gaia_rpmag          RPmag  e_RPmag   VEGA       gaia_rpmag\n",
       "V/147/sdss12   sdss_gmag            gmag   e_gmag     AB        sdss_gmag\n",
       "               sdss_rmag            rmag   e_rmag     AB        sdss_rmag\n",
       "               sdss_imag            imag   e_imag     AB        sdss_imag\n",
       "               sdss_zmag            zmag   e_zmag     AB        sdss_zmag\n",
       "II/336/apass9  johnson_bmag         Bmag   e_Bmag   VEGA     johnson_bmag\n",
       "               johnson_vmag         Vmag   e_Vmag   VEGA     johnson_vmag\n",
       "I/259/tyc2     tycho_bmag          BTmag  e_BTmag   VEGA       tycho_bmag\n",
       "               tycho_vmag          VTmag  e_VTmag   VEGA       tycho_vmag\n",
       "I/239/hip_main hipparcos_btmag     BTmag  e_BTmag   vega       tycho_bmag\n",
       "               hipparcos_vtmag     VTmag  e_VTmag   vega       tycho_vmag\n",
       "               hipparcos_hpmag     Hpmag  e_Hpmag   vega  hipparcos_hpmag"
      ]
     },
     "metadata": {},
     "output_type": "display_data"
    },
    {
     "name": "stdout",
     "output_type": "stream",
     "text": [
      "Isochrone analogs:\n"
     ]
    },
    {
     "data": {
      "text/plain": [
       "['2mass_hmag',\n",
       " '2mass_jmag',\n",
       " '2mass_kmag',\n",
       " 'cousins_imag',\n",
       " 'cousins_rmag',\n",
       " 'gaia_bpmag',\n",
       " 'gaia_gmag',\n",
       " 'gaia_rpmag',\n",
       " 'hipparcos_hpmag',\n",
       " 'johnson_bmag',\n",
       " 'johnson_vmag',\n",
       " 'ps1_gmag',\n",
       " 'ps1_imag',\n",
       " 'ps1_omag',\n",
       " 'ps1_rmag',\n",
       " 'ps1_wmag',\n",
       " 'ps1_ymag',\n",
       " 'ps1_zmag',\n",
       " 'sdss_gmag',\n",
       " 'sdss_imag',\n",
       " 'sdss_rmag',\n",
       " 'sdss_zmag',\n",
       " 'tycho_bmag',\n",
       " 'tycho_vmag']"
      ]
     },
     "metadata": {},
     "output_type": "display_data"
    }
   ],
   "source": [
    "target2.add_photometry(\n",
    "    {\n",
    "     'I/239/hip_main' : {\n",
    "         'hipparcos_btmag' : ('BTmag', 'e_BTmag', 'vega', 'tycho_bmag'),\n",
    "         'hipparcos_vtmag' : ('VTmag', 'e_VTmag', 'vega', 'tycho_vmag'),\n",
    "         'hipparcos_hpmag' : ('Hpmag', 'e_Hpmag', 'vega', 'hipparcos_hpmag')\n",
    "         }\n",
    "     }\n",
    "    )\n",
    "\n",
    "display(target2.photometry_meta)\n",
    "print(\"Isochrone analogs:\")\n",
    "display(target2.isochrone_analogs)"
   ]
  },
  {
   "cell_type": "markdown",
   "metadata": {},
   "source": [
    "We can see that the Hipparcos metadata made it to the table. However, there's still a possibility the photometry will not be grabbed from Vizier for whatever reason (e.g., there's not data for the target in the catalog, or the values are masked or NaN). Luckily, we can quickly check to see if our new bands are there before we run the simulation."
   ]
  },
  {
   "cell_type": "code",
   "execution_count": 22,
   "metadata": {},
   "outputs": [
    {
     "data": {
      "text/html": [
       "<div>\n",
       "<style scoped>\n",
       "    .dataframe tbody tr th:only-of-type {\n",
       "        vertical-align: middle;\n",
       "    }\n",
       "\n",
       "    .dataframe tbody tr th {\n",
       "        vertical-align: top;\n",
       "    }\n",
       "\n",
       "    .dataframe thead th {\n",
       "        text-align: right;\n",
       "    }\n",
       "</style>\n",
       "<table border=\"1\" class=\"dataframe\">\n",
       "  <thead>\n",
       "    <tr style=\"text-align: right;\">\n",
       "      <th></th>\n",
       "      <th>apparent_magnitude</th>\n",
       "      <th>apparent_magnitude_error</th>\n",
       "      <th>ABSOLUTE_MAGNITUDE</th>\n",
       "      <th>ABSOLUTE_MAGNITUDE_ERROR</th>\n",
       "      <th>flux</th>\n",
       "      <th>flux_error</th>\n",
       "      <th>parallax</th>\n",
       "      <th>parallax_error</th>\n",
       "      <th>zeropoint_flux</th>\n",
       "      <th>wavelength</th>\n",
       "      <th>system</th>\n",
       "      <th>isochrone_analog</th>\n",
       "    </tr>\n",
       "  </thead>\n",
       "  <tbody>\n",
       "    <tr>\n",
       "      <th>2mass_jmag</th>\n",
       "      <td>3.936</td>\n",
       "      <td>0.25</td>\n",
       "      <td>2.55335</td>\n",
       "      <td>0.250036</td>\n",
       "      <td>8.37422e-12</td>\n",
       "      <td>1.92824e-12</td>\n",
       "      <td>0.0529017</td>\n",
       "      <td>0.0001037</td>\n",
       "      <td>3.143e-10</td>\n",
       "      <td>12350</td>\n",
       "      <td>VEGA</td>\n",
       "      <td>2mass_jmag</td>\n",
       "    </tr>\n",
       "    <tr>\n",
       "      <th>2mass_hmag</th>\n",
       "      <td>3.681</td>\n",
       "      <td>0.222</td>\n",
       "      <td>2.29835</td>\n",
       "      <td>0.222041</td>\n",
       "      <td>3.85501e-12</td>\n",
       "      <td>7.88233e-13</td>\n",
       "      <td>0.0529017</td>\n",
       "      <td>0.0001037</td>\n",
       "      <td>1.144e-10</td>\n",
       "      <td>16620</td>\n",
       "      <td>VEGA</td>\n",
       "      <td>2mass_hmag</td>\n",
       "    </tr>\n",
       "    <tr>\n",
       "      <th>2mass_kmag</th>\n",
       "      <td>3.638</td>\n",
       "      <td>0.254</td>\n",
       "      <td>2.25535</td>\n",
       "      <td>0.254036</td>\n",
       "      <td>1.50964e-12</td>\n",
       "      <td>3.5317e-13</td>\n",
       "      <td>0.0529017</td>\n",
       "      <td>0.0001037</td>\n",
       "      <td>4.306e-11</td>\n",
       "      <td>21590</td>\n",
       "      <td>VEGA</td>\n",
       "      <td>2mass_kmag</td>\n",
       "    </tr>\n",
       "    <tr>\n",
       "      <th>gaia_gmag</th>\n",
       "      <td>4.63591</td>\n",
       "      <td>0.002844</td>\n",
       "      <td>3.25326</td>\n",
       "      <td>0.00511928</td>\n",
       "      <td>3.50143e-11</td>\n",
       "      <td>9.17171e-14</td>\n",
       "      <td>0.0529017</td>\n",
       "      <td>0.0001037</td>\n",
       "      <td>2.50386e-09</td>\n",
       "      <td>5822.39</td>\n",
       "      <td>VEGA</td>\n",
       "      <td>gaia_gmag</td>\n",
       "    </tr>\n",
       "    <tr>\n",
       "      <th>gaia_bpmag</th>\n",
       "      <td>4.92666</td>\n",
       "      <td>0.002898</td>\n",
       "      <td>3.54401</td>\n",
       "      <td>0.00514948</td>\n",
       "      <td>4.36353e-11</td>\n",
       "      <td>1.1647e-13</td>\n",
       "      <td>0.0529017</td>\n",
       "      <td>0.0001037</td>\n",
       "      <td>4.07852e-09</td>\n",
       "      <td>5035.75</td>\n",
       "      <td>VEGA</td>\n",
       "      <td>gaia_bpmag</td>\n",
       "    </tr>\n",
       "    <tr>\n",
       "      <th>gaia_rpmag</th>\n",
       "      <td>4.19876</td>\n",
       "      <td>0.004445</td>\n",
       "      <td>2.81611</td>\n",
       "      <td>0.00615441</td>\n",
       "      <td>2.65439e-11</td>\n",
       "      <td>1.08671e-13</td>\n",
       "      <td>0.0529017</td>\n",
       "      <td>0.0001037</td>\n",
       "      <td>1.26902e-09</td>\n",
       "      <td>7619.96</td>\n",
       "      <td>VEGA</td>\n",
       "      <td>gaia_rpmag</td>\n",
       "    </tr>\n",
       "    <tr>\n",
       "      <th>tycho_bmag</th>\n",
       "      <td>5.441</td>\n",
       "      <td>0.014</td>\n",
       "      <td>4.05835</td>\n",
       "      <td>0.0146328</td>\n",
       "      <td>4.33632e-11</td>\n",
       "      <td>5.59145e-13</td>\n",
       "      <td>0.0529017</td>\n",
       "      <td>0.0001037</td>\n",
       "      <td>6.5091e-09</td>\n",
       "      <td>4280</td>\n",
       "      <td>VEGA</td>\n",
       "      <td>tycho_bmag</td>\n",
       "    </tr>\n",
       "    <tr>\n",
       "      <th>tycho_vmag</th>\n",
       "      <td>4.848</td>\n",
       "      <td>0.009</td>\n",
       "      <td>3.46535</td>\n",
       "      <td>0.00995584</td>\n",
       "      <td>4.58214e-11</td>\n",
       "      <td>3.79827e-13</td>\n",
       "      <td>0.0529017</td>\n",
       "      <td>0.0001037</td>\n",
       "      <td>3.98353e-09</td>\n",
       "      <td>5340</td>\n",
       "      <td>VEGA</td>\n",
       "      <td>tycho_vmag</td>\n",
       "    </tr>\n",
       "    <tr>\n",
       "      <th>hipparcos_btmag</th>\n",
       "      <td>5.466</td>\n",
       "      <td>0.002</td>\n",
       "      <td>4.08335</td>\n",
       "      <td>0.00470305</td>\n",
       "      <td>4.23761e-11</td>\n",
       "      <td>7.80597e-14</td>\n",
       "      <td>0.0529017</td>\n",
       "      <td>0.0001037</td>\n",
       "      <td>6.5091e-09</td>\n",
       "      <td>4280</td>\n",
       "      <td>VEGA</td>\n",
       "      <td>tycho_bmag</td>\n",
       "    </tr>\n",
       "    <tr>\n",
       "      <th>hipparcos_vtmag</th>\n",
       "      <td>4.856</td>\n",
       "      <td>0.002</td>\n",
       "      <td>3.47335</td>\n",
       "      <td>0.00470305</td>\n",
       "      <td>4.5485e-11</td>\n",
       "      <td>8.37865e-14</td>\n",
       "      <td>0.0529017</td>\n",
       "      <td>0.0001037</td>\n",
       "      <td>3.98353e-09</td>\n",
       "      <td>5340</td>\n",
       "      <td>VEGA</td>\n",
       "      <td>tycho_vmag</td>\n",
       "    </tr>\n",
       "    <tr>\n",
       "      <th>hipparcos_hpmag</th>\n",
       "      <td>4.9069</td>\n",
       "      <td>0.0005</td>\n",
       "      <td>3.52425</td>\n",
       "      <td>0.00428587</td>\n",
       "      <td>4.78421e-11</td>\n",
       "      <td>2.20321e-14</td>\n",
       "      <td>0.0529017</td>\n",
       "      <td>0.0001037</td>\n",
       "      <td>4.39107e-09</td>\n",
       "      <td>4897.85</td>\n",
       "      <td>VEGA</td>\n",
       "      <td>hipparcos_hpmag</td>\n",
       "    </tr>\n",
       "  </tbody>\n",
       "</table>\n",
       "</div>"
      ],
      "text/plain": [
       "                 apparent_magnitude  apparent_magnitude_error  \\\n",
       "2mass_jmag                    3.936                      0.25   \n",
       "2mass_hmag                    3.681                     0.222   \n",
       "2mass_kmag                    3.638                     0.254   \n",
       "gaia_gmag                   4.63591                  0.002844   \n",
       "gaia_bpmag                  4.92666                  0.002898   \n",
       "gaia_rpmag                  4.19876                  0.004445   \n",
       "tycho_bmag                    5.441                     0.014   \n",
       "tycho_vmag                    4.848                     0.009   \n",
       "hipparcos_btmag               5.466                     0.002   \n",
       "hipparcos_vtmag               4.856                     0.002   \n",
       "hipparcos_hpmag              4.9069                    0.0005   \n",
       "\n",
       "                 ABSOLUTE_MAGNITUDE  ABSOLUTE_MAGNITUDE_ERROR        flux  \\\n",
       "2mass_jmag                  2.55335                  0.250036 8.37422e-12   \n",
       "2mass_hmag                  2.29835                  0.222041 3.85501e-12   \n",
       "2mass_kmag                  2.25535                  0.254036 1.50964e-12   \n",
       "gaia_gmag                   3.25326                0.00511928 3.50143e-11   \n",
       "gaia_bpmag                  3.54401                0.00514948 4.36353e-11   \n",
       "gaia_rpmag                  2.81611                0.00615441 2.65439e-11   \n",
       "tycho_bmag                  4.05835                 0.0146328 4.33632e-11   \n",
       "tycho_vmag                  3.46535                0.00995584 4.58214e-11   \n",
       "hipparcos_btmag             4.08335                0.00470305 4.23761e-11   \n",
       "hipparcos_vtmag             3.47335                0.00470305  4.5485e-11   \n",
       "hipparcos_hpmag             3.52425                0.00428587 4.78421e-11   \n",
       "\n",
       "                 flux_error  parallax  parallax_error  zeropoint_flux  \\\n",
       "2mass_jmag      1.92824e-12 0.0529017       0.0001037       3.143e-10   \n",
       "2mass_hmag      7.88233e-13 0.0529017       0.0001037       1.144e-10   \n",
       "2mass_kmag       3.5317e-13 0.0529017       0.0001037       4.306e-11   \n",
       "gaia_gmag       9.17171e-14 0.0529017       0.0001037     2.50386e-09   \n",
       "gaia_bpmag       1.1647e-13 0.0529017       0.0001037     4.07852e-09   \n",
       "gaia_rpmag      1.08671e-13 0.0529017       0.0001037     1.26902e-09   \n",
       "tycho_bmag      5.59145e-13 0.0529017       0.0001037      6.5091e-09   \n",
       "tycho_vmag      3.79827e-13 0.0529017       0.0001037     3.98353e-09   \n",
       "hipparcos_btmag 7.80597e-14 0.0529017       0.0001037      6.5091e-09   \n",
       "hipparcos_vtmag 8.37865e-14 0.0529017       0.0001037     3.98353e-09   \n",
       "hipparcos_hpmag 2.20321e-14 0.0529017       0.0001037     4.39107e-09   \n",
       "\n",
       "                 wavelength system isochrone_analog  \n",
       "2mass_jmag            12350   VEGA       2mass_jmag  \n",
       "2mass_hmag            16620   VEGA       2mass_hmag  \n",
       "2mass_kmag            21590   VEGA       2mass_kmag  \n",
       "gaia_gmag           5822.39   VEGA        gaia_gmag  \n",
       "gaia_bpmag          5035.75   VEGA       gaia_bpmag  \n",
       "gaia_rpmag          7619.96   VEGA       gaia_rpmag  \n",
       "tycho_bmag             4280   VEGA       tycho_bmag  \n",
       "tycho_vmag             5340   VEGA       tycho_vmag  \n",
       "hipparcos_btmag        4280   VEGA       tycho_bmag  \n",
       "hipparcos_vtmag        5340   VEGA       tycho_vmag  \n",
       "hipparcos_hpmag     4897.85   VEGA  hipparcos_hpmag  "
      ]
     },
     "execution_count": 22,
     "metadata": {},
     "output_type": "execute_result"
    }
   ],
   "source": [
    "est = Estimate(target2)\n",
    "est.photometry"
   ]
  },
  {
   "cell_type": "markdown",
   "metadata": {},
   "source": [
    "#### Local Photometry <a id='local'></a>"
   ]
  },
  {
   "cell_type": "markdown",
   "metadata": {},
   "source": [
    "We are also able to add photometry that we've gathered ourselves or otherwise unavailable from Vizier. It works the same way as before, except the catalog must be `'local'`, and the `magnitude` and `error` values in the tuple must be floats. \n",
    "\n",
    "Suppose we've measured Cousins R and I apparent magnitudes to be 4.9 mag and 4.19 mag, respectively, with each having an error of 0.05 mag. Since Cousins magnitudes are measured with respect to Vega, these both belong to the 'vega' system. `cousins_rmag` and `cousins_imag` both appear in the isochrone analogs list, so we'll use those as analogs."
   ]
  },
  {
   "cell_type": "code",
   "execution_count": 23,
   "metadata": {},
   "outputs": [
    {
     "data": {
      "text/html": [
       "<div>\n",
       "<style scoped>\n",
       "    .dataframe tbody tr th:only-of-type {\n",
       "        vertical-align: middle;\n",
       "    }\n",
       "\n",
       "    .dataframe tbody tr th {\n",
       "        vertical-align: top;\n",
       "    }\n",
       "\n",
       "    .dataframe thead th {\n",
       "        text-align: right;\n",
       "    }\n",
       "</style>\n",
       "<table border=\"1\" class=\"dataframe\">\n",
       "  <thead>\n",
       "    <tr style=\"text-align: right;\">\n",
       "      <th></th>\n",
       "      <th></th>\n",
       "      <th>magnitude</th>\n",
       "      <th>error</th>\n",
       "      <th>system</th>\n",
       "      <th>isochrone_analog</th>\n",
       "    </tr>\n",
       "    <tr>\n",
       "      <th>catalog</th>\n",
       "      <th>band</th>\n",
       "      <th></th>\n",
       "      <th></th>\n",
       "      <th></th>\n",
       "      <th></th>\n",
       "    </tr>\n",
       "  </thead>\n",
       "  <tbody>\n",
       "    <tr>\n",
       "      <th rowspan=\"3\" valign=\"top\">II/246/out</th>\n",
       "      <th>2mass_jmag</th>\n",
       "      <td>Jmag</td>\n",
       "      <td>e_Jmag</td>\n",
       "      <td>VEGA</td>\n",
       "      <td>2mass_jmag</td>\n",
       "    </tr>\n",
       "    <tr>\n",
       "      <th>2mass_hmag</th>\n",
       "      <td>Hmag</td>\n",
       "      <td>e_Hmag</td>\n",
       "      <td>VEGA</td>\n",
       "      <td>2mass_hmag</td>\n",
       "    </tr>\n",
       "    <tr>\n",
       "      <th>2mass_kmag</th>\n",
       "      <td>Kmag</td>\n",
       "      <td>e_Kmag</td>\n",
       "      <td>VEGA</td>\n",
       "      <td>2mass_kmag</td>\n",
       "    </tr>\n",
       "    <tr>\n",
       "      <th rowspan=\"3\" valign=\"top\">I/350/gaiaedr3</th>\n",
       "      <th>gaia_gmag</th>\n",
       "      <td>Gmag</td>\n",
       "      <td>e_Gmag</td>\n",
       "      <td>VEGA</td>\n",
       "      <td>gaia_gmag</td>\n",
       "    </tr>\n",
       "    <tr>\n",
       "      <th>gaia_bpmag</th>\n",
       "      <td>BPmag</td>\n",
       "      <td>e_BPmag</td>\n",
       "      <td>VEGA</td>\n",
       "      <td>gaia_bpmag</td>\n",
       "    </tr>\n",
       "    <tr>\n",
       "      <th>gaia_rpmag</th>\n",
       "      <td>RPmag</td>\n",
       "      <td>e_RPmag</td>\n",
       "      <td>VEGA</td>\n",
       "      <td>gaia_rpmag</td>\n",
       "    </tr>\n",
       "    <tr>\n",
       "      <th rowspan=\"4\" valign=\"top\">V/147/sdss12</th>\n",
       "      <th>sdss_gmag</th>\n",
       "      <td>gmag</td>\n",
       "      <td>e_gmag</td>\n",
       "      <td>AB</td>\n",
       "      <td>sdss_gmag</td>\n",
       "    </tr>\n",
       "    <tr>\n",
       "      <th>sdss_rmag</th>\n",
       "      <td>rmag</td>\n",
       "      <td>e_rmag</td>\n",
       "      <td>AB</td>\n",
       "      <td>sdss_rmag</td>\n",
       "    </tr>\n",
       "    <tr>\n",
       "      <th>sdss_imag</th>\n",
       "      <td>imag</td>\n",
       "      <td>e_imag</td>\n",
       "      <td>AB</td>\n",
       "      <td>sdss_imag</td>\n",
       "    </tr>\n",
       "    <tr>\n",
       "      <th>sdss_zmag</th>\n",
       "      <td>zmag</td>\n",
       "      <td>e_zmag</td>\n",
       "      <td>AB</td>\n",
       "      <td>sdss_zmag</td>\n",
       "    </tr>\n",
       "    <tr>\n",
       "      <th rowspan=\"2\" valign=\"top\">II/336/apass9</th>\n",
       "      <th>johnson_bmag</th>\n",
       "      <td>Bmag</td>\n",
       "      <td>e_Bmag</td>\n",
       "      <td>VEGA</td>\n",
       "      <td>johnson_bmag</td>\n",
       "    </tr>\n",
       "    <tr>\n",
       "      <th>johnson_vmag</th>\n",
       "      <td>Vmag</td>\n",
       "      <td>e_Vmag</td>\n",
       "      <td>VEGA</td>\n",
       "      <td>johnson_vmag</td>\n",
       "    </tr>\n",
       "    <tr>\n",
       "      <th rowspan=\"2\" valign=\"top\">I/259/tyc2</th>\n",
       "      <th>tycho_bmag</th>\n",
       "      <td>BTmag</td>\n",
       "      <td>e_BTmag</td>\n",
       "      <td>VEGA</td>\n",
       "      <td>tycho_bmag</td>\n",
       "    </tr>\n",
       "    <tr>\n",
       "      <th>tycho_vmag</th>\n",
       "      <td>VTmag</td>\n",
       "      <td>e_VTmag</td>\n",
       "      <td>VEGA</td>\n",
       "      <td>tycho_vmag</td>\n",
       "    </tr>\n",
       "    <tr>\n",
       "      <th rowspan=\"3\" valign=\"top\">I/239/hip_main</th>\n",
       "      <th>hipparcos_btmag</th>\n",
       "      <td>BTmag</td>\n",
       "      <td>e_BTmag</td>\n",
       "      <td>vega</td>\n",
       "      <td>tycho_bmag</td>\n",
       "    </tr>\n",
       "    <tr>\n",
       "      <th>hipparcos_vtmag</th>\n",
       "      <td>VTmag</td>\n",
       "      <td>e_VTmag</td>\n",
       "      <td>vega</td>\n",
       "      <td>tycho_vmag</td>\n",
       "    </tr>\n",
       "    <tr>\n",
       "      <th>hipparcos_hpmag</th>\n",
       "      <td>Hpmag</td>\n",
       "      <td>e_Hpmag</td>\n",
       "      <td>vega</td>\n",
       "      <td>hipparcos_hpmag</td>\n",
       "    </tr>\n",
       "    <tr>\n",
       "      <th rowspan=\"2\" valign=\"top\">local</th>\n",
       "      <th>my_rmag</th>\n",
       "      <td>4.9</td>\n",
       "      <td>0.05</td>\n",
       "      <td>vega</td>\n",
       "      <td>cousins_rmag</td>\n",
       "    </tr>\n",
       "    <tr>\n",
       "      <th>my_imag</th>\n",
       "      <td>4.19</td>\n",
       "      <td>0.05</td>\n",
       "      <td>vega</td>\n",
       "      <td>cousins_imag</td>\n",
       "    </tr>\n",
       "  </tbody>\n",
       "</table>\n",
       "</div>"
      ],
      "text/plain": [
       "                               magnitude    error system isochrone_analog\n",
       "catalog        band                                                      \n",
       "II/246/out     2mass_jmag           Jmag   e_Jmag   VEGA       2mass_jmag\n",
       "               2mass_hmag           Hmag   e_Hmag   VEGA       2mass_hmag\n",
       "               2mass_kmag           Kmag   e_Kmag   VEGA       2mass_kmag\n",
       "I/350/gaiaedr3 gaia_gmag            Gmag   e_Gmag   VEGA        gaia_gmag\n",
       "               gaia_bpmag          BPmag  e_BPmag   VEGA       gaia_bpmag\n",
       "               gaia_rpmag          RPmag  e_RPmag   VEGA       gaia_rpmag\n",
       "V/147/sdss12   sdss_gmag            gmag   e_gmag     AB        sdss_gmag\n",
       "               sdss_rmag            rmag   e_rmag     AB        sdss_rmag\n",
       "               sdss_imag            imag   e_imag     AB        sdss_imag\n",
       "               sdss_zmag            zmag   e_zmag     AB        sdss_zmag\n",
       "II/336/apass9  johnson_bmag         Bmag   e_Bmag   VEGA     johnson_bmag\n",
       "               johnson_vmag         Vmag   e_Vmag   VEGA     johnson_vmag\n",
       "I/259/tyc2     tycho_bmag          BTmag  e_BTmag   VEGA       tycho_bmag\n",
       "               tycho_vmag          VTmag  e_VTmag   VEGA       tycho_vmag\n",
       "I/239/hip_main hipparcos_btmag     BTmag  e_BTmag   vega       tycho_bmag\n",
       "               hipparcos_vtmag     VTmag  e_VTmag   vega       tycho_vmag\n",
       "               hipparcos_hpmag     Hpmag  e_Hpmag   vega  hipparcos_hpmag\n",
       "local          my_rmag               4.9     0.05   vega     cousins_rmag\n",
       "               my_imag              4.19     0.05   vega     cousins_imag"
      ]
     },
     "execution_count": 23,
     "metadata": {},
     "output_type": "execute_result"
    }
   ],
   "source": [
    "target2.add_photometry(\n",
    "    {\n",
    "     'local' : {\n",
    "         'my_rmag' : (4.9, 0.05, 'vega', 'cousins_rmag'),\n",
    "         'my_imag' : (4.19, 0.05, 'vega', 'cousins_imag')\n",
    "         }\n",
    "     }\n",
    "    )\n",
    "\n",
    "target2.photometry_meta"
   ]
  },
  {
   "cell_type": "markdown",
   "metadata": {},
   "source": [
    "#### Removing Photometry <a id='removing'></a>"
   ]
  },
  {
   "cell_type": "markdown",
   "metadata": {},
   "source": [
    "Just as we can add photometry, we can also remove any catalogs/bands from being included in the Vizier search. Removing photometry is simpler than adding since all we're doing is deleting rows from the above table.\n",
    "\n",
    "We'll use `target2.remove_photometry` and pass a dictionary whose keys are the catalogs and whose values are either the band, list of bands, or 'all'. The first two are used for removing an individual band(s) and the third is for removing the whole catalog.\n",
    "\n",
    "Let's suppose we want to remove 2MASS H, SDSS g, SDSS z, and both Johnson magnitudes from being grabbed by Vizier."
   ]
  },
  {
   "cell_type": "code",
   "execution_count": 24,
   "metadata": {},
   "outputs": [
    {
     "data": {
      "text/html": [
       "<div>\n",
       "<style scoped>\n",
       "    .dataframe tbody tr th:only-of-type {\n",
       "        vertical-align: middle;\n",
       "    }\n",
       "\n",
       "    .dataframe tbody tr th {\n",
       "        vertical-align: top;\n",
       "    }\n",
       "\n",
       "    .dataframe thead th {\n",
       "        text-align: right;\n",
       "    }\n",
       "</style>\n",
       "<table border=\"1\" class=\"dataframe\">\n",
       "  <thead>\n",
       "    <tr style=\"text-align: right;\">\n",
       "      <th></th>\n",
       "      <th></th>\n",
       "      <th>magnitude</th>\n",
       "      <th>error</th>\n",
       "      <th>system</th>\n",
       "      <th>isochrone_analog</th>\n",
       "    </tr>\n",
       "    <tr>\n",
       "      <th>catalog</th>\n",
       "      <th>band</th>\n",
       "      <th></th>\n",
       "      <th></th>\n",
       "      <th></th>\n",
       "      <th></th>\n",
       "    </tr>\n",
       "  </thead>\n",
       "  <tbody>\n",
       "    <tr>\n",
       "      <th rowspan=\"2\" valign=\"top\">II/246/out</th>\n",
       "      <th>2mass_jmag</th>\n",
       "      <td>Jmag</td>\n",
       "      <td>e_Jmag</td>\n",
       "      <td>VEGA</td>\n",
       "      <td>2mass_jmag</td>\n",
       "    </tr>\n",
       "    <tr>\n",
       "      <th>2mass_kmag</th>\n",
       "      <td>Kmag</td>\n",
       "      <td>e_Kmag</td>\n",
       "      <td>VEGA</td>\n",
       "      <td>2mass_kmag</td>\n",
       "    </tr>\n",
       "    <tr>\n",
       "      <th rowspan=\"3\" valign=\"top\">I/350/gaiaedr3</th>\n",
       "      <th>gaia_gmag</th>\n",
       "      <td>Gmag</td>\n",
       "      <td>e_Gmag</td>\n",
       "      <td>VEGA</td>\n",
       "      <td>gaia_gmag</td>\n",
       "    </tr>\n",
       "    <tr>\n",
       "      <th>gaia_bpmag</th>\n",
       "      <td>BPmag</td>\n",
       "      <td>e_BPmag</td>\n",
       "      <td>VEGA</td>\n",
       "      <td>gaia_bpmag</td>\n",
       "    </tr>\n",
       "    <tr>\n",
       "      <th>gaia_rpmag</th>\n",
       "      <td>RPmag</td>\n",
       "      <td>e_RPmag</td>\n",
       "      <td>VEGA</td>\n",
       "      <td>gaia_rpmag</td>\n",
       "    </tr>\n",
       "    <tr>\n",
       "      <th rowspan=\"2\" valign=\"top\">V/147/sdss12</th>\n",
       "      <th>sdss_imag</th>\n",
       "      <td>imag</td>\n",
       "      <td>e_imag</td>\n",
       "      <td>AB</td>\n",
       "      <td>sdss_imag</td>\n",
       "    </tr>\n",
       "    <tr>\n",
       "      <th>sdss_zmag</th>\n",
       "      <td>zmag</td>\n",
       "      <td>e_zmag</td>\n",
       "      <td>AB</td>\n",
       "      <td>sdss_zmag</td>\n",
       "    </tr>\n",
       "    <tr>\n",
       "      <th rowspan=\"2\" valign=\"top\">I/259/tyc2</th>\n",
       "      <th>tycho_bmag</th>\n",
       "      <td>BTmag</td>\n",
       "      <td>e_BTmag</td>\n",
       "      <td>VEGA</td>\n",
       "      <td>tycho_bmag</td>\n",
       "    </tr>\n",
       "    <tr>\n",
       "      <th>tycho_vmag</th>\n",
       "      <td>VTmag</td>\n",
       "      <td>e_VTmag</td>\n",
       "      <td>VEGA</td>\n",
       "      <td>tycho_vmag</td>\n",
       "    </tr>\n",
       "    <tr>\n",
       "      <th rowspan=\"3\" valign=\"top\">I/239/hip_main</th>\n",
       "      <th>hipparcos_btmag</th>\n",
       "      <td>BTmag</td>\n",
       "      <td>e_BTmag</td>\n",
       "      <td>vega</td>\n",
       "      <td>tycho_bmag</td>\n",
       "    </tr>\n",
       "    <tr>\n",
       "      <th>hipparcos_vtmag</th>\n",
       "      <td>VTmag</td>\n",
       "      <td>e_VTmag</td>\n",
       "      <td>vega</td>\n",
       "      <td>tycho_vmag</td>\n",
       "    </tr>\n",
       "    <tr>\n",
       "      <th>hipparcos_hpmag</th>\n",
       "      <td>Hpmag</td>\n",
       "      <td>e_Hpmag</td>\n",
       "      <td>vega</td>\n",
       "      <td>hipparcos_hpmag</td>\n",
       "    </tr>\n",
       "    <tr>\n",
       "      <th rowspan=\"2\" valign=\"top\">local</th>\n",
       "      <th>my_rmag</th>\n",
       "      <td>4.9</td>\n",
       "      <td>0.05</td>\n",
       "      <td>vega</td>\n",
       "      <td>cousins_rmag</td>\n",
       "    </tr>\n",
       "    <tr>\n",
       "      <th>my_imag</th>\n",
       "      <td>4.19</td>\n",
       "      <td>0.05</td>\n",
       "      <td>vega</td>\n",
       "      <td>cousins_imag</td>\n",
       "    </tr>\n",
       "  </tbody>\n",
       "</table>\n",
       "</div>"
      ],
      "text/plain": [
       "                               magnitude    error system isochrone_analog\n",
       "catalog        band                                                      \n",
       "II/246/out     2mass_jmag           Jmag   e_Jmag   VEGA       2mass_jmag\n",
       "               2mass_kmag           Kmag   e_Kmag   VEGA       2mass_kmag\n",
       "I/350/gaiaedr3 gaia_gmag            Gmag   e_Gmag   VEGA        gaia_gmag\n",
       "               gaia_bpmag          BPmag  e_BPmag   VEGA       gaia_bpmag\n",
       "               gaia_rpmag          RPmag  e_RPmag   VEGA       gaia_rpmag\n",
       "V/147/sdss12   sdss_imag            imag   e_imag     AB        sdss_imag\n",
       "               sdss_zmag            zmag   e_zmag     AB        sdss_zmag\n",
       "I/259/tyc2     tycho_bmag          BTmag  e_BTmag   VEGA       tycho_bmag\n",
       "               tycho_vmag          VTmag  e_VTmag   VEGA       tycho_vmag\n",
       "I/239/hip_main hipparcos_btmag     BTmag  e_BTmag   vega       tycho_bmag\n",
       "               hipparcos_vtmag     VTmag  e_VTmag   vega       tycho_vmag\n",
       "               hipparcos_hpmag     Hpmag  e_Hpmag   vega  hipparcos_hpmag\n",
       "local          my_rmag               4.9     0.05   vega     cousins_rmag\n",
       "               my_imag              4.19     0.05   vega     cousins_imag"
      ]
     },
     "execution_count": 24,
     "metadata": {},
     "output_type": "execute_result"
    }
   ],
   "source": [
    "target2.remove_photometry(\n",
    "    {\n",
    "     'II/246/out' : '2mass_hmag',\n",
    "     'V/147/sdss12' : ['sdss_gmag', 'sdss_rmag'],\n",
    "     'II/336/apass9' : 'all'\n",
    "     }\n",
    "    )\n",
    "\n",
    "target2.photometry_meta"
   ]
  },
  {
   "cell_type": "markdown",
   "metadata": {},
   "source": [
    "### Target Metadata Summary <a id='meta_summary'></a>"
   ]
  },
  {
   "cell_type": "markdown",
   "metadata": {},
   "source": [
    "Let's bring it all together for HD 5015. We've already changed the photometry, so let's set the initial conditions and the moves. We can see all of the metadata with `show_metadata()`."
   ]
  },
  {
   "cell_type": "code",
   "execution_count": 25,
   "metadata": {},
   "outputs": [
    {
     "name": "stdout",
     "output_type": "stream",
     "text": [
      "Target: HD 5015  \n",
      "\n",
      "Initial Conditions:\n",
      "                            bounds           prior position perturbation\n",
      "target  parameter                                                      \n",
      "HD 5015 age        (1.0, 10000.0)     (5400, 300)     3000          250\n",
      "        mass         (0.09, 2.45)      (nan, nan)        1          0.2\n",
      "        Av             (0.0, 3.0)  (0.005, 0.016)        0          0.2\n",
      "        f              (0.0, 2.0)      (nan, nan)        0          0.2\n",
      "        Teff           (nan, nan)      (nan, nan)      NaN          NaN\n",
      "\n",
      "Moves:\n",
      " [(<emcee.moves.de.DEMove object at 0x7f874133a280>, 0.8), (<emcee.moves.de_snooker.DESnookerMove object at 0x7f874133ac70>, 0.2)]\n",
      "\n",
      "Photometry Metadata:\n",
      "                                magnitude    error system isochrone_analog\n",
      "catalog        band                                                      \n",
      "II/246/out     2mass_jmag           Jmag   e_Jmag   VEGA       2mass_jmag\n",
      "               2mass_kmag           Kmag   e_Kmag   VEGA       2mass_kmag\n",
      "I/350/gaiaedr3 gaia_gmag            Gmag   e_Gmag   VEGA        gaia_gmag\n",
      "               gaia_bpmag          BPmag  e_BPmag   VEGA       gaia_bpmag\n",
      "               gaia_rpmag          RPmag  e_RPmag   VEGA       gaia_rpmag\n",
      "V/147/sdss12   sdss_imag            imag   e_imag     AB        sdss_imag\n",
      "               sdss_zmag            zmag   e_zmag     AB        sdss_zmag\n",
      "I/259/tyc2     tycho_bmag          BTmag  e_BTmag   VEGA       tycho_bmag\n",
      "               tycho_vmag          VTmag  e_VTmag   VEGA       tycho_vmag\n",
      "I/239/hip_main hipparcos_btmag     BTmag  e_BTmag   vega       tycho_bmag\n",
      "               hipparcos_vtmag     VTmag  e_VTmag   vega       tycho_vmag\n",
      "               hipparcos_hpmag     Hpmag  e_Hpmag   vega  hipparcos_hpmag\n",
      "local          my_rmag               4.9     0.05   vega     cousins_rmag\n",
      "               my_imag              4.19     0.05   vega     cousins_imag\n"
     ]
    }
   ],
   "source": [
    "target2.initial_conditions = {\n",
    "    'prior' : {\n",
    "        'age':(5400, 300),\n",
    "        'Av':(0.005, 0.016)\n",
    "        },\n",
    "    'position' : {\n",
    "        'age' : 3000\n",
    "        },\n",
    "    'perturbation' : {\n",
    "        'age' : 250,\n",
    "        }\n",
    "    }\n",
    "\n",
    "target2.moves = [\n",
    "    ('DE', 0.8),\n",
    "    ('snooker', 0.2)\n",
    "    ]\n",
    "\n",
    "target2.show_metadata()"
   ]
  },
  {
   "cell_type": "markdown",
   "metadata": {},
   "source": [
    "## Changing the Isochrone Model <a id='isochrone'></a>"
   ]
  },
  {
   "cell_type": "markdown",
   "metadata": {},
   "source": [
    "The code is primarily built to estimate radii of young stars. Therefore, the default isochrone model being used incorporates the effects of magnetic fields which helps it perform better for young stars. Currently, there is a second, non-magnetic model available for use in the simulation. Both of these come from [Feiden (2016)](https://www.aanda.org/articles/aa/abs/2016/09/aa27613-15/aa27613-15.html). "
   ]
  },
  {
   "cell_type": "markdown",
   "metadata": {},
   "source": [
    "To change the model, change the `isochrone` keyword argument in `Estimate` to `mag` for magnetic models (default), or `std` for the non-magnetic models. Since HD 5015 is an older star, we'll use that to demonstrate."
   ]
  },
  {
   "cell_type": "code",
   "execution_count": 26,
   "metadata": {},
   "outputs": [],
   "source": [
    "est2 = Estimate(target2, isochrone='std')"
   ]
  },
  {
   "cell_type": "markdown",
   "metadata": {},
   "source": [
    "## Changing the Interpolation Method <a id='interp_method'></a>"
   ]
  },
  {
   "cell_type": "markdown",
   "metadata": {},
   "source": [
    "As we can see, the simulation isn't super quick (even for 250 steps) and it might even be extremely long compared to other MCMC simulations you may be used to. I've noticed these simulations are usually a little slower when I run them in Jupyter Notebooks (rather than in Spyder, for example), but one of the slower processes is the model interpolation. During every step, and for each walker, magnitudes are interpolated from the model based on that walker's current age and mass parameter values. \n",
    "\n",
    "Luckily we can cut this time down a little bit if we move all the interpolation to before we run the simulation. In the package exists a second model grid (for each isochrone type) that has already been interpolated and filled back in with the interpolated data. To use it, we must specify `interp_method='nearest'` when we initialize `Estimate`. This method finds the closest datapoint in the grid to the given age and mass. The default method is `'true'` meaning it will perform an actual interpolation on the original model grid, so it's important we set it to `'nearest'` if we want to use this method.\n",
    "\n",
    "Note, the code uses `isochrones.interp.DFInterpolator` to perform the `'true'` interpolation. See the [`isochrones` documentation](https://isochrones.readthedocs.io/en/latest/interpolate.html) for more information.\n",
    "\n",
    "We'll go back to our original `target` object so we can compare the speed and results from our previous simulations."
   ]
  },
  {
   "cell_type": "code",
   "execution_count": 27,
   "metadata": {},
   "outputs": [
    {
     "name": "stdout",
     "output_type": "stream",
     "text": [
      "\n",
      "loading isochrone model grid ..\n",
      "\n",
      "running MCMC for K2-33:\n"
     ]
    },
    {
     "name": "stderr",
     "output_type": "stream",
     "text": [
      "100%|██████████| 250/250 [00:40<00:00,  6.22it/s]\n"
     ]
    },
    {
     "name": "stdout",
     "output_type": "stream",
     "text": [
      "\n",
      "extracting posterior for K2-33:\n",
      "\n",
      "calculating max log probability:\n"
     ]
    },
    {
     "name": "stderr",
     "output_type": "stream",
     "text": [
      "100%|██████████| 4000/4000 [00:23<00:00, 167.56it/s]\n"
     ]
    },
    {
     "name": "stdout",
     "output_type": "stream",
     "text": [
      "\n",
      "getting radius and Teff chains:\n"
     ]
    },
    {
     "name": "stderr",
     "output_type": "stream",
     "text": [
      "100%|██████████| 4000/4000 [00:09<00:00, 436.44it/s]\n"
     ]
    }
   ],
   "source": [
    "est = Estimate(target, interp_method='nearest')\n",
    "sampler = est.run(16, 250)\n",
    "posterior, photometry, chains = est.posterior(sampler)"
   ]
  },
  {
   "cell_type": "markdown",
   "metadata": {},
   "source": [
    "## Making Basic Plots <a id='plot'></a>"
   ]
  },
  {
   "cell_type": "markdown",
   "metadata": {},
   "source": [
    "`dsa.radius` has the built-in ability to show different plots that can be used to better represent the posterior distribution. We'll look at a few of them here. Note, the data will most likely look horrible since we were prioritizing time over accuracy in these examples. Uncomment the next cell of code and run it to get a better feel for what these plots should look like if you have more time."
   ]
  },
  {
   "cell_type": "code",
   "execution_count": 28,
   "metadata": {},
   "outputs": [],
   "source": [
    "# est = Estimate(target, interp_method='nearest')\n",
    "# sampler = est.run(24, 1500)\n",
    "# posterior, photometry, chains = est.posterior(sampler, thin=10, discard=200)"
   ]
  },
  {
   "cell_type": "markdown",
   "metadata": {},
   "source": [
    "First, we can create a time series of the positions of each walker in parameter space for every iteration of the simulation."
   ]
  },
  {
   "cell_type": "code",
   "execution_count": 29,
   "metadata": {},
   "outputs": [
    {
     "data": {
      "image/png": "[encoded data removed]",
      "text/plain": [
       "<Figure size 720x576 with 4 Axes>"
      ]
     },
     "metadata": {
      "needs_background": "light"
     },
     "output_type": "display_data"
    }
   ],
   "source": [
    "from dsa.radius.plot import time_series\n",
    "\n",
    "samples = sampler.get_chain()\n",
    "fig1 = time_series(samples)"
   ]
  },
  {
   "cell_type": "markdown",
   "metadata": {},
   "source": [
    "Next, we'll look at a corner plot which uses `corner` to plot histograms 2D projections of our stellar parameters. "
   ]
  },
  {
   "cell_type": "code",
   "execution_count": 30,
   "metadata": {},
   "outputs": [
    {
     "name": "stderr",
     "output_type": "stream",
     "text": [
      "WARNING:root:Too few points to create valid contours\n",
      "WARNING:root:Too few points to create valid contours\n",
      "WARNING:root:Too few points to create valid contours\n",
      "WARNING:root:Too few points to create valid contours\n",
      "WARNING:root:Too few points to create valid contours\n",
      "WARNING:root:Too few points to create valid contours\n",
      "WARNING:root:Too few points to create valid contours\n",
      "WARNING:root:Too few points to create valid contours\n",
      "WARNING:root:Too few points to create valid contours\n",
      "WARNING:root:Too few points to create valid contours\n",
      "WARNING:root:Too few points to create valid contours\n",
      "WARNING:root:Too few points to create valid contours\n",
      "WARNING:root:Too few points to create valid contours\n",
      "WARNING:root:Too few points to create valid contours\n"
     ]
    },
    {
     "data": {
      "image/png": "[encoded data removed]",
      "text/plain": [
       "<Figure size 1152x1152 with 49 Axes>"
      ]
     },
     "metadata": {
      "needs_background": "light"
     },
     "output_type": "display_data"
    }
   ],
   "source": [
    "from dsa.radius.plot import corner_plot\n",
    "\n",
    "fig2 = corner_plot(chains, bins=12)"
   ]
  },
  {
   "cell_type": "markdown",
   "metadata": {},
   "source": [
    "Lastly, we'll take a look at a flux density vs. wavelength plot which shows the measured flux compared to the median and maximum-probability estimated fluxes. "
   ]
  },
  {
   "cell_type": "code",
   "execution_count": 31,
   "metadata": {},
   "outputs": [
    {
     "data": {
      "image/png": "[encoded data removed]",
      "text/plain": [
       "<Figure size 720x576 with 2 Axes>"
      ]
     },
     "metadata": {
      "needs_background": "light"
     },
     "output_type": "display_data"
    }
   ],
   "source": [
    "from dsa.radius.plot import flux_v_wavelength\n",
    "\n",
    "fig3 = flux_v_wavelength(photometry)"
   ]
  },
  {
   "cell_type": "markdown",
   "metadata": {},
   "source": [
    "Since these plotting functions all return their respective `matplotlib.figure.Figure` objects, we can just as easily save each figure or access any of their attributes."
   ]
  },
  {
   "cell_type": "markdown",
   "metadata": {},
   "source": [
    "## Miscellaneous <a id='misc'></a>"
   ]
  },
  {
   "cell_type": "markdown",
   "metadata": {},
   "source": [
    "### Measured Photometry Kwargs <a id='meas_phot_kwargs'></a>"
   ]
  },
  {
   "cell_type": "markdown",
   "metadata": {},
   "source": [
    "It is possible to pass a few additional keyword arguments to `Estimate` to better control the photometry-getting, so we'll cover some of them briefly here.\n",
    "\n",
    "- `search_radius` (float or `astropy.Quantity`) - The initial search radius for the Vizier query. The default is 5 arcseconds.\n",
    "- `radius_step` (float or `astropy.Quantity`) - How the search radius is decreased every query when it needs to be narrowed down.\n",
    "- `tol` (int) - Minimum number of magnitudes needed to run the simulation.\n",
    "- `lazy_tol` (bool) - If `True` (default), will find the search radius where all queried tables contain 1 target. If `False`, will save each table successively once they contain only 1 target (trying to maximize photometry amount).\n",
    "- `vizier_kwargs`(dict) - Keyword arguments passable to `astroquery.vizier.Vizier` or related methods. See https://astroquery.readthedocs.io/en/lates/api/astroquery.vizier.VizierClass.html#astroquery.vizier.VizierClass for available attributes.\n",
    "- `validate` (bool) - If `True`, cross-validate the catalog photometry with expected color values via E. E. Mamajek's table https://www.pas.rochester.edu/~emamajek/EEM_dwarf_UBVIJHK_colors_Teff.txt . The default is `False`."
   ]
  },
  {
   "cell_type": "markdown",
   "metadata": {},
   "source": [
    "### Set Extinction to Zero <a id='zero_extinction'></a>"
   ]
  },
  {
   "cell_type": "markdown",
   "metadata": {},
   "source": [
    "It is also possible to set extinction to zero for the entire simulation if desired. To do this set `zero_extinction=True` (default is `False`) when initializing the `Estimate` class. This is a useful approximation if you know that there should be little to no extinction for a target. It also has the added benefit of speeding up the code since it does not need to perform the extinction calculation for every walker at every step. "
   ]
  }
 ],
 "metadata": {
  "kernelspec": {
   "display_name": "Python 3",
   "language": "python",
   "name": "python3"
  },
  "language_info": {
   "codemirror_mode": {
    "name": "ipython",
    "version": 3
   },
   "file_extension": ".py",
   "mimetype": "text/x-python",
   "name": "python",
   "nbconvert_exporter": "python",
   "pygments_lexer": "ipython3",
   "version": "3.8.5"
  }
 },
 "nbformat": 4,
 "nbformat_minor": 4
}
